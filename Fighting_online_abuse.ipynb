{
  "nbformat": 4,
  "nbformat_minor": 0,
  "metadata": {
    "colab": {
      "name": "Fighting online abuse.ipynb",
      "version": "0.3.2",
      "provenance": [],
      "collapsed_sections": [
        "Cglxo_9ehtQi",
        "2TnbiPyehtRD"
      ]
    },
    "kernelspec": {
      "name": "python3",
      "display_name": "Python 3"
    },
    "accelerator": "GPU"
  },
  "cells": [
    {
      "cell_type": "code",
      "metadata": {
        "id": "NzVp3rJw9Z-N",
        "colab_type": "code",
        "outputId": "4bf50252-4b03-4be7-85b0-3cfd08cc6c09",
        "colab": {
          "base_uri": "https://localhost:8080/",
          "height": 35
        }
      },
      "source": [
        "from google.colab import drive\n",
        "drive.mount('/content/drive', force_remount=True)"
      ],
      "execution_count": 7,
      "outputs": [
        {
          "output_type": "stream",
          "text": [
            "Mounted at /content/drive\n"
          ],
          "name": "stdout"
        }
      ]
    },
    {
      "cell_type": "code",
      "metadata": {
        "id": "JXcSivuf9iPu",
        "colab_type": "code",
        "outputId": "c757d21c-344c-456e-b3df-1f802e8c5946",
        "colab": {
          "base_uri": "https://localhost:8080/",
          "height": 53
        }
      },
      "source": [
        "!unzip 'drive/My Drive/Project Final-Online Abuse/Dataset'"
      ],
      "execution_count": 170,
      "outputs": [
        {
          "output_type": "stream",
          "text": [
            "Archive:  drive/My Drive/Project Final-Online Abuse/Dataset.zip\n",
            "replace test.csv? [y]es, [n]o, [A]ll, [N]one, [r]ename: N\n"
          ],
          "name": "stdout"
        }
      ]
    },
    {
      "cell_type": "markdown",
      "metadata": {
        "colab_type": "text",
        "id": "Eg9SlqJa51JL"
      },
      "source": [
        "# Files imported"
      ]
    },
    {
      "cell_type": "code",
      "metadata": {
        "colab_type": "code",
        "id": "wdeli7sYhtM6",
        "colab": {}
      },
      "source": [
        "import pandas as pd\n",
        "import numpy as np\n",
        "import matplotlib.pyplot as plt\n",
        "import random\n",
        "\n",
        "# Pre-processing\n",
        "import nltk\n",
        "# import word tokenizer\n",
        "from nltk import word_tokenize\n",
        "# to remove stopwords\n",
        "from nltk.corpus import stopwords\n",
        "# to stem the words\n",
        "from nltk.stem.snowball import SnowballStemmer\n",
        "# for pretty printing\n",
        "from pprint import pprint\n",
        "# for regular expressions\n",
        "import re\n",
        "\n",
        "# Predicting\n",
        "# to create bag-of-words and tfidf vectoriser\n",
        "from sklearn.feature_extraction.text import CountVectorizer,TfidfVectorizer\n",
        "# to split into training and validation sets to avoid over-fitting\n",
        "from sklearn.model_selection import cross_val_score\n",
        "\n",
        "# ML algorithms\n",
        "# naive bayes\n",
        "from sklearn.naive_bayes import MultinomialNB\n",
        "# svm\n",
        "from sklearn import svm\n",
        "# logistic regression\n",
        "from sklearn.linear_model import LogisticRegression\n",
        "\n",
        "# Neural network\n",
        "# to create neural network model\n",
        "from keras.models import Sequential\n",
        "# for different kinds of layer\n",
        "from keras.layers import Dense,Flatten,Dropout,MaxPooling1D,Conv1D\n",
        "# to create word embeddings\n",
        "from keras.layers.embeddings import Embedding\n",
        "# to tokenize comments for input to neural network\n",
        "from keras.preprocessing.text import Tokenizer,text_to_word_sequence\n",
        "# to pad comments\n",
        "from keras.preprocessing.sequence import pad_sequences\n",
        "\n",
        "#For wordcloud\n",
        "from wordcloud import WordCloud"
      ],
      "execution_count": 0,
      "outputs": []
    },
    {
      "cell_type": "code",
      "metadata": {
        "id": "XCM3xtKdygAQ",
        "colab_type": "code",
        "colab": {}
      },
      "source": [
        "nltk.download('all')"
      ],
      "execution_count": 0,
      "outputs": []
    },
    {
      "cell_type": "code",
      "metadata": {
        "id": "YYU7ku8c94-L",
        "colab_type": "code",
        "colab": {}
      },
      "source": [
        "#reading the train ans test files\n",
        "data = pd.read_csv('./train.csv')\n",
        "test = pd.read_csv('./test.csv')"
      ],
      "execution_count": 0,
      "outputs": []
    },
    {
      "cell_type": "code",
      "metadata": {
        "id": "-Knevtt0-DVz",
        "colab_type": "code",
        "outputId": "4eb0241c-e05d-4a31-af69-d3a3fca4cfea",
        "colab": {
          "base_uri": "https://localhost:8080/",
          "height": 35
        }
      },
      "source": [
        "#train file size\n",
        "data.shape"
      ],
      "execution_count": 204,
      "outputs": [
        {
          "output_type": "execute_result",
          "data": {
            "text/plain": [
              "(159571, 8)"
            ]
          },
          "metadata": {
            "tags": []
          },
          "execution_count": 204
        }
      ]
    },
    {
      "cell_type": "code",
      "metadata": {
        "id": "wBA_rs0i-Id3",
        "colab_type": "code",
        "outputId": "ed8f9318-6d00-4764-f6ae-2279e05dc732",
        "colab": {
          "base_uri": "https://localhost:8080/",
          "height": 35
        }
      },
      "source": [
        "#test file size\n",
        "test.shape"
      ],
      "execution_count": 205,
      "outputs": [
        {
          "output_type": "execute_result",
          "data": {
            "text/plain": [
              "(153164, 2)"
            ]
          },
          "metadata": {
            "tags": []
          },
          "execution_count": 205
        }
      ]
    },
    {
      "cell_type": "markdown",
      "metadata": {
        "colab_type": "text",
        "id": "_jvWn5uGhtNL"
      },
      "source": [
        "## Opening file in pandas DataFrame."
      ]
    },
    {
      "cell_type": "code",
      "metadata": {
        "colab_type": "code",
        "id": "S-qmtCRJhtNN",
        "colab": {}
      },
      "source": [
        "# Training data file.\n",
        "data=data.iloc[0:100000,:]\n",
        "\n",
        "#dropping 'id' column\n",
        "data.drop('id',axis=1,inplace=True)"
      ],
      "execution_count": 0,
      "outputs": []
    },
    {
      "cell_type": "code",
      "metadata": {
        "colab_type": "code",
        "id": "0qsv600FhtNX",
        "colab": {}
      },
      "source": [
        "# adding a 'clean' column for marking clean comments\n",
        "data['clean']=0\n",
        "Col=[\"toxic\", \"severe_toxic\", \"obscene\", \"threat\", \"insult\", \"identity_hate\"]\n",
        "data['clean'] = 1-data[Col].max(axis=1)"
      ],
      "execution_count": 0,
      "outputs": []
    },
    {
      "cell_type": "code",
      "metadata": {
        "colab_type": "code",
        "id": "iiQy_WHyhtNe",
        "colab": {}
      },
      "source": [
        "# Testing data file.\n",
        "test=test.iloc[0:50000,:]\n",
        "\n",
        "#dropping 'id' columns\n",
        "test.drop('id',axis=1,inplace=True)"
      ],
      "execution_count": 0,
      "outputs": []
    },
    {
      "cell_type": "code",
      "metadata": {
        "id": "Uwr51YoUOyZm",
        "colab_type": "code",
        "colab": {
          "base_uri": "https://localhost:8080/",
          "height": 206
        },
        "outputId": "52a2242d-e554-4f34-9040-4349e2a9bb68"
      },
      "source": [
        "# train file\n",
        "data.head()"
      ],
      "execution_count": 209,
      "outputs": [
        {
          "output_type": "execute_result",
          "data": {
            "text/html": [
              "<div>\n",
              "<style scoped>\n",
              "    .dataframe tbody tr th:only-of-type {\n",
              "        vertical-align: middle;\n",
              "    }\n",
              "\n",
              "    .dataframe tbody tr th {\n",
              "        vertical-align: top;\n",
              "    }\n",
              "\n",
              "    .dataframe thead th {\n",
              "        text-align: right;\n",
              "    }\n",
              "</style>\n",
              "<table border=\"1\" class=\"dataframe\">\n",
              "  <thead>\n",
              "    <tr style=\"text-align: right;\">\n",
              "      <th></th>\n",
              "      <th>comment_text</th>\n",
              "      <th>toxic</th>\n",
              "      <th>severe_toxic</th>\n",
              "      <th>obscene</th>\n",
              "      <th>threat</th>\n",
              "      <th>insult</th>\n",
              "      <th>identity_hate</th>\n",
              "      <th>clean</th>\n",
              "    </tr>\n",
              "  </thead>\n",
              "  <tbody>\n",
              "    <tr>\n",
              "      <th>0</th>\n",
              "      <td>Explanation\\nWhy the edits made under my usern...</td>\n",
              "      <td>0</td>\n",
              "      <td>0</td>\n",
              "      <td>0</td>\n",
              "      <td>0</td>\n",
              "      <td>0</td>\n",
              "      <td>0</td>\n",
              "      <td>1</td>\n",
              "    </tr>\n",
              "    <tr>\n",
              "      <th>1</th>\n",
              "      <td>D'aww! He matches this background colour I'm s...</td>\n",
              "      <td>0</td>\n",
              "      <td>0</td>\n",
              "      <td>0</td>\n",
              "      <td>0</td>\n",
              "      <td>0</td>\n",
              "      <td>0</td>\n",
              "      <td>1</td>\n",
              "    </tr>\n",
              "    <tr>\n",
              "      <th>2</th>\n",
              "      <td>Hey man, I'm really not trying to edit war. It...</td>\n",
              "      <td>0</td>\n",
              "      <td>0</td>\n",
              "      <td>0</td>\n",
              "      <td>0</td>\n",
              "      <td>0</td>\n",
              "      <td>0</td>\n",
              "      <td>1</td>\n",
              "    </tr>\n",
              "    <tr>\n",
              "      <th>3</th>\n",
              "      <td>\"\\nMore\\nI can't make any real suggestions on ...</td>\n",
              "      <td>0</td>\n",
              "      <td>0</td>\n",
              "      <td>0</td>\n",
              "      <td>0</td>\n",
              "      <td>0</td>\n",
              "      <td>0</td>\n",
              "      <td>1</td>\n",
              "    </tr>\n",
              "    <tr>\n",
              "      <th>4</th>\n",
              "      <td>You, sir, are my hero. Any chance you remember...</td>\n",
              "      <td>0</td>\n",
              "      <td>0</td>\n",
              "      <td>0</td>\n",
              "      <td>0</td>\n",
              "      <td>0</td>\n",
              "      <td>0</td>\n",
              "      <td>1</td>\n",
              "    </tr>\n",
              "  </tbody>\n",
              "</table>\n",
              "</div>"
            ],
            "text/plain": [
              "                                        comment_text  toxic  severe_toxic  \\\n",
              "0  Explanation\\nWhy the edits made under my usern...      0             0   \n",
              "1  D'aww! He matches this background colour I'm s...      0             0   \n",
              "2  Hey man, I'm really not trying to edit war. It...      0             0   \n",
              "3  \"\\nMore\\nI can't make any real suggestions on ...      0             0   \n",
              "4  You, sir, are my hero. Any chance you remember...      0             0   \n",
              "\n",
              "   obscene  threat  insult  identity_hate  clean  \n",
              "0        0       0       0              0      1  \n",
              "1        0       0       0              0      1  \n",
              "2        0       0       0              0      1  \n",
              "3        0       0       0              0      1  \n",
              "4        0       0       0              0      1  "
            ]
          },
          "metadata": {
            "tags": []
          },
          "execution_count": 209
        }
      ]
    },
    {
      "cell_type": "markdown",
      "metadata": {
        "colab_type": "text",
        "id": "uaxcpri7htNw"
      },
      "source": [
        "## Preprocessing"
      ]
    },
    {
      "cell_type": "markdown",
      "metadata": {
        "colab_type": "text",
        "id": "3waEj0erhtNz"
      },
      "source": [
        "**Removing non-alphanumeric symbols like \\n, punctuations and numbers.**"
      ]
    },
    {
      "cell_type": "code",
      "metadata": {
        "colab_type": "code",
        "id": "UP-2OHOPhtN4",
        "colab": {}
      },
      "source": [
        "# Removes non-alphanumeric symbols like \\n, punctuations.\n",
        "\n",
        "def strip(text):\n",
        "    return ' '.join(re.compile(r'[^a-zA-Z]').split(text)) \n",
        "\n",
        "# W+ matches any non-alphanumeric char\n",
        "# re.compile() converts string to regular expression object\n",
        "# .split(text) splits "
      ],
      "execution_count": 0,
      "outputs": []
    },
    {
      "cell_type": "markdown",
      "metadata": {
        "colab_type": "text",
        "id": "Bzhgfz9fhtOI"
      },
      "source": [
        "**Stop-words are words that occur frequently but carry negligible information. Example:'I','are','you',etc.**\n",
        "\n",
        "**Below is the function to remove stop-words from the comments.**"
      ]
    },
    {
      "cell_type": "code",
      "metadata": {
        "colab_type": "code",
        "id": "Z5XNEvqZhtOR",
        "colab": {}
      },
      "source": [
        "# Function to remove stopwords from comments\n",
        "\n",
        "def stop(comment):\n",
        "  \n",
        "    stop_comment=[]\n",
        "    \n",
        "    # Removing the stopwords\n",
        "    for word in comment.split(' '):\n",
        "        if word not in stopwords.words('english'):\n",
        "          #converting to lowercase\n",
        "            stop_comment.append(word.lower())\n",
        "            \n",
        "    return ' '.join(stop_comment)"
      ],
      "execution_count": 0,
      "outputs": []
    },
    {
      "cell_type": "markdown",
      "metadata": {
        "colab_type": "text",
        "id": "XaAUm77MhtOg"
      },
      "source": [
        "**The process of stemming of words is to reduce them to their root. Example:Stem word of 'listing' is 'list' and of 'commited' is 'commit'.**\n",
        "\n",
        "**Below is the function to stem the comments.**"
      ]
    },
    {
      "cell_type": "code",
      "metadata": {
        "colab_type": "code",
        "id": "2lMuOCR-htOh",
        "colab": {}
      },
      "source": [
        "# Function to stem the comments\n",
        "\n",
        "def stem(text):\n",
        "  \n",
        "    text = text.split()\n",
        "    #using SnowballStemmer\n",
        "    stemmer = SnowballStemmer('english')\n",
        "    \n",
        "    stemmed_words = [stemmer.stem(word) for word in text]\n",
        "    text = \" \".join(stemmed_words)\n",
        "    return text"
      ],
      "execution_count": 0,
      "outputs": []
    },
    {
      "cell_type": "markdown",
      "metadata": {
        "colab_type": "text",
        "id": "wrLwmfg06f6p"
      },
      "source": [
        "**Applying preprocessing to training data.**"
      ]
    },
    {
      "cell_type": "code",
      "metadata": {
        "colab_type": "code",
        "id": "k5eTepndhtPC",
        "colab": {}
      },
      "source": [
        "# Creating new columns which contains comments without non-alphanumeric char\n",
        "data['comment-stop']=data['comment_text'].apply(strip)\n",
        "\n",
        "# Removing short words: I have chosen to remove words with length less than 3 letters\n",
        "data['comment-stop']=data['comment-stop'].apply(lambda x: ' '.join([w for w in x.split() if len(w)>3]))\n",
        "\n",
        "# Removing stop words\n",
        "data['comment-stop']=data['comment-stop'].apply(stop)\n",
        "\n",
        "# Stemming comments\n",
        "data['comment-stem']=data['comment-stop'].apply(stem)\n"
      ],
      "execution_count": 0,
      "outputs": []
    },
    {
      "cell_type": "markdown",
      "metadata": {
        "colab_type": "text",
        "id": "qbRbH90ThtPR"
      },
      "source": [
        "**Applying preprocessing to the testing data.**"
      ]
    },
    {
      "cell_type": "code",
      "metadata": {
        "colab_type": "code",
        "id": "Axu3LyQ-htPR",
        "colab": {}
      },
      "source": [
        "# Creating new columns which contains comments without non-alphanumeric char\n",
        "test['comment-stop']=test['comment_text'].apply(strip)\n",
        "\n",
        "# Removing short words\n",
        "test['comment-stop']=test['comment-stop'].apply(lambda x: ' '.join([w for w in x.split() if len(w)>3]))\n",
        "\n",
        "# Removing stop words\n",
        "test['comment-stop']=test['comment-stop'].apply(stop)\n",
        "\n",
        "# Stemming comments\n",
        "test['comment-stem']=test['comment-stop'].apply(stem)\n"
      ],
      "execution_count": 0,
      "outputs": []
    },
    {
      "cell_type": "markdown",
      "metadata": {
        "colab_type": "text",
        "id": "N8cqGuTBhtPh"
      },
      "source": [
        "## **Comparing number of unique words in unclean, clean and stemmed comments.**"
      ]
    },
    {
      "cell_type": "code",
      "metadata": {
        "colab_type": "code",
        "id": "ihL5tTmfhtPq",
        "outputId": "8c5d64a9-50a7-4beb-929d-632605fdcb2a",
        "colab": {
          "base_uri": "https://localhost:8080/",
          "height": 72
        }
      },
      "source": [
        "# We will be using CountVectorizer to count the number of unique words comments corpus.\n",
        "\n",
        "count_vectorizer=CountVectorizer()\n",
        "\n",
        "#load unclean comments\n",
        "x_unclean=data['comment_text']\n",
        "\n",
        "count_vectorizer_vectors=count_vectorizer.fit_transform(x_unclean)\n",
        "print('Unique words in unclean comments corpus : ',count_vectorizer_vectors.shape) # rows X words\n",
        "\n",
        "#load clean comments\n",
        "x_stop=data['comment-stop']\n",
        "\n",
        "count_vectorizer_vectors=count_vectorizer.fit_transform(x_stop)\n",
        "print('Unique words in cleaned comments with no stop words : ',count_vectorizer_vectors.shape)\n",
        "\n",
        "#load stemmed comments\n",
        "x_stem=data['comment-stem']\n",
        "\n",
        "count_vectorizer_vectors=count_vectorizer.fit_transform(x_stem)\n",
        "print('Unique words in cleaned comments with stemmed words : ',count_vectorizer_vectors.shape)"
      ],
      "execution_count": 219,
      "outputs": [
        {
          "output_type": "stream",
          "text": [
            "Unique words in unclean comments corpus :  (100000, 142966)\n",
            "Unique words in cleaned comments with no stop words :  (100000, 122789)\n",
            "Unique words in cleaned comments with stemmed words :  (100000, 94606)\n"
          ],
          "name": "stdout"
        }
      ]
    },
    {
      "cell_type": "markdown",
      "metadata": {
        "colab_type": "text",
        "id": "xh3U60-khtQF"
      },
      "source": [
        "**We can see from above results that cleaning and stemming the comments helps in reducing the number of unique words. The fewer the words, the faster the processing!**"
      ]
    },
    {
      "cell_type": "markdown",
      "metadata": {
        "id": "ttVViVFY0Fsy",
        "colab_type": "text"
      },
      "source": [
        "**Not all words in the corpus are equally relevant.**\n",
        "\n",
        "**Words that have fewer occurance in comments would carry more information than other words.**\n",
        "\n",
        "**With the help of Tf we can determine how frequently a word occurs in comments (Term frequency). Then using Idf (Inverted document frequency) we can determine how useful a word is in the whole corpus.** "
      ]
    },
    {
      "cell_type": "code",
      "metadata": {
        "id": "MIQ3NbF2mG8S",
        "colab_type": "code",
        "colab": {}
      },
      "source": [
        " #Tf-idf\n",
        "x_stem=data['comment-stem']\n",
        "\n",
        "tfidf_vectorizer=TfidfVectorizer()\n",
        "\n",
        "#fit_transform tfidf vectorizer on x_stem comments\n",
        "tfidf_vectorizer_train=tfidf_vectorizer.fit_transform(x_stem)"
      ],
      "execution_count": 0,
      "outputs": []
    },
    {
      "cell_type": "code",
      "metadata": {
        "id": "njCE9zvomp4k",
        "colab_type": "code",
        "colab": {
          "base_uri": "https://localhost:8080/",
          "height": 217
        },
        "outputId": "6d4a6a83-5c78-458c-ed6f-74b4a87a2b3e"
      },
      "source": [
        "#words and their feature indices\n",
        "count=0\n",
        "for word,index in tfidf_vectorizer.vocabulary_.items():\n",
        "  print(word,index)\n",
        "  count+=1\n",
        "  if count>10:\n",
        "    break"
      ],
      "execution_count": 270,
      "outputs": [
        {
          "output_type": "stream",
          "text": [
            "explan 27475\n",
            "edit 24681\n",
            "made 49300\n",
            "usernam 87754\n",
            "hardcor 35281\n",
            "metallica 52234\n",
            "revert 69608\n",
            "they 82988\n",
            "vandal 88193\n",
            "closur 15894\n",
            "vote 89603\n"
          ],
          "name": "stdout"
        }
      ]
    },
    {
      "cell_type": "code",
      "metadata": {
        "id": "cnCfJwnTqtFo",
        "colab_type": "code",
        "colab": {
          "base_uri": "https://localhost:8080/",
          "height": 53
        },
        "outputId": "4e59ede4-4ea0-4c3f-9981-9db2c2499dd9"
      },
      "source": [
        "tfidf_vectorizer.idf_[:10]"
      ],
      "execution_count": 267,
      "outputs": [
        {
          "output_type": "execute_result",
          "data": {
            "text/plain": [
              "array([11.41432318, 11.81978828, 11.81978828, 11.41432318, 11.81978828,\n",
              "       11.81978828, 11.81978828, 11.81978828, 11.81978828, 11.81978828])"
            ]
          },
          "metadata": {
            "tags": []
          },
          "execution_count": 267
        }
      ]
    },
    {
      "cell_type": "markdown",
      "metadata": {
        "colab_type": "text",
        "id": "srqkp3GYhtQG"
      },
      "source": [
        "**We can write unique stemmed words to a csv file.**"
      ]
    },
    {
      "cell_type": "code",
      "metadata": {
        "colab_type": "code",
        "id": "SOGUrP_ThtQK",
        "colab": {}
      },
      "source": [
        "# words=transform_stem\n",
        "# #words.columns=list_of_words\n",
        "\n",
        "# df_word=pd.DataFrame(words.todense())\n",
        "# df_word.columns=vector_stem.get_feature_names() # assigning column name based on the corresponding word\n",
        "\n",
        "# df_word.to_csv('Words.csv',index=False)\n",
        "# #df_word # Dataframe column contains word in sparse vector."
      ],
      "execution_count": 0,
      "outputs": []
    },
    {
      "cell_type": "markdown",
      "metadata": {
        "colab_type": "text",
        "id": "gCkRRMrIhtQh"
      },
      "source": [
        "## Predicting on stemmed comments."
      ]
    },
    {
      "cell_type": "code",
      "metadata": {
        "colab_type": "code",
        "id": "-3gvBh_4htPi",
        "colab": {}
      },
      "source": [
        "#create a list of all the categories\n",
        "Col=[\"toxic\", \"severe_toxic\", \"obscene\", \"threat\", \"insult\", \"identity_hate\",\"clean\"]"
      ],
      "execution_count": 0,
      "outputs": []
    },
    {
      "cell_type": "markdown",
      "metadata": {
        "colab_type": "text",
        "id": "Cglxo_9ehtQi"
      },
      "source": [
        "### Logistic Regression"
      ]
    },
    {
      "cell_type": "code",
      "metadata": {
        "colab_type": "code",
        "id": "q8DBy_arhtQk",
        "outputId": "dbf3ddda-16e7-41d1-9150-47df03d01559",
        "colab": {
          "base_uri": "https://localhost:8080/",
          "height": 144
        }
      },
      "source": [
        "lr=LogisticRegression()\n",
        "    \n",
        "for target in Col:\n",
        "  \n",
        "    #Using cross-validation with 3 folds.\n",
        "    \n",
        "    score_tf=cross_val_score(lr,tfidf_vectorizer_train,data[target],cv=3,verbose=0,n_jobs=-1)\n",
        "    \n",
        "    print(target,':',score_tf.mean())"
      ],
      "execution_count": 81,
      "outputs": [
        {
          "output_type": "stream",
          "text": [
            "toxic : 0.9259001741068352\n",
            "severe_toxic : 0.989999959191835\n",
            "obscene : 0.9626998369833837\n",
            "threat : 0.9966999999340066\n",
            "insult : 0.9585998166513156\n",
            "identity_hate : 0.9915999998320167\n",
            "clean : 0.9212997784481507\n"
          ],
          "name": "stdout"
        }
      ]
    },
    {
      "cell_type": "code",
      "metadata": {
        "id": "1r17FMSX9wUa",
        "colab_type": "code",
        "colab": {
          "base_uri": "https://localhost:8080/",
          "height": 219
        },
        "outputId": "105bdb57-dd6d-4f56-ae70-2b9215b8393d"
      },
      "source": [
        "rand=random.randint(0,len(test))\n",
        "sent=test['comment-stem'][rand]\n",
        "\n",
        "print(sent)\n",
        "for target in Col:\n",
        "    lr.fit(tfidf_vectorizer_train,data[target])\n",
        "    print(target,':',lr.predict(tfidf_vectorizer.transform([sent])))"
      ],
      "execution_count": 91,
      "outputs": [
        {
          "output_type": "stream",
          "text": [
            "pleas someon imag back wikipedia encyclopedia pulpit advoc virtu free media wrong perhap time someon start encyclopedia\n",
            "toxic : [0]\n",
            "severe_toxic : [0]\n"
          ],
          "name": "stdout"
        },
        {
          "output_type": "stream",
          "text": [
            "/usr/local/lib/python3.6/dist-packages/sklearn/linear_model/logistic.py:433: FutureWarning: Default solver will be changed to 'lbfgs' in 0.22. Specify a solver to silence this warning.\n",
            "  FutureWarning)\n"
          ],
          "name": "stderr"
        },
        {
          "output_type": "stream",
          "text": [
            "obscene : [0]\n",
            "threat : [0]\n",
            "insult : [0]\n",
            "identity_hate : [0]\n",
            "clean : [1]\n"
          ],
          "name": "stdout"
        }
      ]
    },
    {
      "cell_type": "markdown",
      "metadata": {
        "colab_type": "text",
        "id": "2TnbiPyehtRD"
      },
      "source": [
        "### Naive Bayes"
      ]
    },
    {
      "cell_type": "code",
      "metadata": {
        "colab_type": "code",
        "id": "Ns4CNyzrhtRF",
        "outputId": "3b3fe49c-2ee8-4231-d210-ebc6fb7d6281",
        "colab": {
          "base_uri": "https://localhost:8080/",
          "height": 144
        }
      },
      "source": [
        "naive=MultinomialNB()\n",
        "\n",
        "    \n",
        "for target in Col:\n",
        "  \n",
        "    #Using cross-validation with 3 folds.\n",
        "    \n",
        "    score_tf=cross_val_score(naive,tfidf_vectorizer_train,data[target],cv=3,verbose=0,n_jobs=-1)\n",
        "    \n",
        "    print(target,':',score_tf.mean())"
      ],
      "execution_count": 232,
      "outputs": [
        {
          "output_type": "stream",
          "text": [
            "toxic : 0.9190399979838281\n",
            "severe_toxic : 0.9899399998979891\n",
            "obscene : 0.9517799935612952\n",
            "threat : 0.9968199999974559\n",
            "insult : 0.9517400039614712\n",
            "identity_hate : 0.9913899999931118\n",
            "clean : 0.9162600013832382\n"
          ],
          "name": "stdout"
        }
      ]
    },
    {
      "cell_type": "code",
      "metadata": {
        "id": "cvULA-7mBAcr",
        "colab_type": "code",
        "colab": {
          "base_uri": "https://localhost:8080/",
          "height": 163
        },
        "outputId": "2c5fe7f8-294d-47cc-d19c-10ba7e4dedaf"
      },
      "source": [
        "rand=random.randint(0,len(test))\n",
        "sent=test['comment-stem'][rand]\n",
        "\n",
        "print(sent)\n",
        "for target in Col:\n",
        "    naive.fit(tfidf_vectorizer_train,data[target])\n",
        "    print(target,':',naive.predict(tfidf_vectorizer.transform([sent])))"
      ],
      "execution_count": 258,
      "outputs": [
        {
          "output_type": "stream",
          "text": [
            "fuck anti semit cunt\n",
            "toxic : [1]\n",
            "severe_toxic : [0]\n",
            "obscene : [0]\n",
            "threat : [0]\n",
            "insult : [0]\n",
            "identity_hate : [0]\n",
            "clean : [0]\n"
          ],
          "name": "stdout"
        }
      ]
    },
    {
      "cell_type": "markdown",
      "metadata": {
        "colab_type": "text",
        "id": "m_iHkS7KhtRm"
      },
      "source": [
        "### SVM"
      ]
    },
    {
      "cell_type": "code",
      "metadata": {
        "colab_type": "code",
        "id": "4hqLFk0ehtRo",
        "outputId": "9cf0538b-cfcd-4f12-d79c-459cf1e787fd",
        "colab": {
          "base_uri": "https://localhost:8080/",
          "height": 598
        }
      },
      "source": [
        "# Using best result for hyperparamter from gridsearchCV.\n",
        "\n",
        "svc=svm.SVC(kernel='linear',C=3,random_state=27)\n",
        "\n",
        "for target in Col:\n",
        "  \n",
        "    #Using cross-validation with 3 folds.\n",
        "    \n",
        "    score_tf=cross_val_score(svc,tfidf_vectorizer_train,data[target],cv=3,verbose=0,n_jobs=-1)\n",
        "    \n",
        "    print(target,':',score_tf.mean())"
      ],
      "execution_count": 259,
      "outputs": [
        {
          "output_type": "stream",
          "text": [
            "toxic : 0.9563600063912081\n",
            "severe_toxic : 0.989760000497947\n",
            "obscene : 0.9784600107829836\n",
            "threat : 0.9968899997975079\n"
          ],
          "name": "stdout"
        },
        {
          "output_type": "stream",
          "text": [
            "/usr/local/lib/python3.6/dist-packages/sklearn/externals/joblib/externals/loky/process_executor.py:706: UserWarning: A worker stopped while some jobs were given to the executor. This can be caused by a too short worker timeout or by a memory leak.\n",
            "  \"timeout or by a memory leak.\", UserWarning\n"
          ],
          "name": "stderr"
        },
        {
          "output_type": "stream",
          "text": [
            "insult : 0.9688000077751955\n",
            "identity_hate : 0.9920299979935838\n"
          ],
          "name": "stdout"
        },
        {
          "output_type": "stream",
          "text": [
            "/usr/local/lib/python3.6/dist-packages/sklearn/externals/joblib/externals/loky/process_executor.py:706: UserWarning: A worker stopped while some jobs were given to the executor. This can be caused by a too short worker timeout or by a memory leak.\n",
            "  \"timeout or by a memory leak.\", UserWarning\n"
          ],
          "name": "stderr"
        },
        {
          "output_type": "error",
          "ename": "KeyboardInterrupt",
          "evalue": "ignored",
          "traceback": [
            "\u001b[0;31m---------------------------------------------------------------------------\u001b[0m",
            "\u001b[0;31mKeyboardInterrupt\u001b[0m                         Traceback (most recent call last)",
            "\u001b[0;32m<ipython-input-259-91066048359f>\u001b[0m in \u001b[0;36m<module>\u001b[0;34m()\u001b[0m\n\u001b[1;32m      6\u001b[0m     \u001b[0;31m#Using cross-validation with 3 folds.\u001b[0m\u001b[0;34m\u001b[0m\u001b[0;34m\u001b[0m\u001b[0;34m\u001b[0m\u001b[0m\n\u001b[1;32m      7\u001b[0m \u001b[0;34m\u001b[0m\u001b[0m\n\u001b[0;32m----> 8\u001b[0;31m     \u001b[0mscore_tf\u001b[0m\u001b[0;34m=\u001b[0m\u001b[0mcross_val_score\u001b[0m\u001b[0;34m(\u001b[0m\u001b[0msvc\u001b[0m\u001b[0;34m,\u001b[0m\u001b[0mtfidf_vectorizer_train\u001b[0m\u001b[0;34m,\u001b[0m\u001b[0mdata\u001b[0m\u001b[0;34m[\u001b[0m\u001b[0mtarget\u001b[0m\u001b[0;34m]\u001b[0m\u001b[0;34m,\u001b[0m\u001b[0mcv\u001b[0m\u001b[0;34m=\u001b[0m\u001b[0;36m3\u001b[0m\u001b[0;34m,\u001b[0m\u001b[0mverbose\u001b[0m\u001b[0;34m=\u001b[0m\u001b[0;36m0\u001b[0m\u001b[0;34m,\u001b[0m\u001b[0mn_jobs\u001b[0m\u001b[0;34m=\u001b[0m\u001b[0;34m-\u001b[0m\u001b[0;36m1\u001b[0m\u001b[0;34m)\u001b[0m\u001b[0;34m\u001b[0m\u001b[0;34m\u001b[0m\u001b[0m\n\u001b[0m\u001b[1;32m      9\u001b[0m \u001b[0;34m\u001b[0m\u001b[0m\n\u001b[1;32m     10\u001b[0m     \u001b[0mprint\u001b[0m\u001b[0;34m(\u001b[0m\u001b[0mtarget\u001b[0m\u001b[0;34m,\u001b[0m\u001b[0;34m':'\u001b[0m\u001b[0;34m,\u001b[0m\u001b[0mscore_tf\u001b[0m\u001b[0;34m.\u001b[0m\u001b[0mmean\u001b[0m\u001b[0;34m(\u001b[0m\u001b[0;34m)\u001b[0m\u001b[0;34m)\u001b[0m\u001b[0;34m\u001b[0m\u001b[0;34m\u001b[0m\u001b[0m\n",
            "\u001b[0;32m/usr/local/lib/python3.6/dist-packages/sklearn/model_selection/_validation.py\u001b[0m in \u001b[0;36mcross_val_score\u001b[0;34m(estimator, X, y, groups, scoring, cv, n_jobs, verbose, fit_params, pre_dispatch, error_score)\u001b[0m\n\u001b[1;32m    400\u001b[0m                                 \u001b[0mfit_params\u001b[0m\u001b[0;34m=\u001b[0m\u001b[0mfit_params\u001b[0m\u001b[0;34m,\u001b[0m\u001b[0;34m\u001b[0m\u001b[0;34m\u001b[0m\u001b[0m\n\u001b[1;32m    401\u001b[0m                                 \u001b[0mpre_dispatch\u001b[0m\u001b[0;34m=\u001b[0m\u001b[0mpre_dispatch\u001b[0m\u001b[0;34m,\u001b[0m\u001b[0;34m\u001b[0m\u001b[0;34m\u001b[0m\u001b[0m\n\u001b[0;32m--> 402\u001b[0;31m                                 error_score=error_score)\n\u001b[0m\u001b[1;32m    403\u001b[0m     \u001b[0;32mreturn\u001b[0m \u001b[0mcv_results\u001b[0m\u001b[0;34m[\u001b[0m\u001b[0;34m'test_score'\u001b[0m\u001b[0;34m]\u001b[0m\u001b[0;34m\u001b[0m\u001b[0;34m\u001b[0m\u001b[0m\n\u001b[1;32m    404\u001b[0m \u001b[0;34m\u001b[0m\u001b[0m\n",
            "\u001b[0;32m/usr/local/lib/python3.6/dist-packages/sklearn/model_selection/_validation.py\u001b[0m in \u001b[0;36mcross_validate\u001b[0;34m(estimator, X, y, groups, scoring, cv, n_jobs, verbose, fit_params, pre_dispatch, return_train_score, return_estimator, error_score)\u001b[0m\n\u001b[1;32m    238\u001b[0m             \u001b[0mreturn_times\u001b[0m\u001b[0;34m=\u001b[0m\u001b[0;32mTrue\u001b[0m\u001b[0;34m,\u001b[0m \u001b[0mreturn_estimator\u001b[0m\u001b[0;34m=\u001b[0m\u001b[0mreturn_estimator\u001b[0m\u001b[0;34m,\u001b[0m\u001b[0;34m\u001b[0m\u001b[0;34m\u001b[0m\u001b[0m\n\u001b[1;32m    239\u001b[0m             error_score=error_score)\n\u001b[0;32m--> 240\u001b[0;31m         for train, test in cv.split(X, y, groups))\n\u001b[0m\u001b[1;32m    241\u001b[0m \u001b[0;34m\u001b[0m\u001b[0m\n\u001b[1;32m    242\u001b[0m     \u001b[0mzipped_scores\u001b[0m \u001b[0;34m=\u001b[0m \u001b[0mlist\u001b[0m\u001b[0;34m(\u001b[0m\u001b[0mzip\u001b[0m\u001b[0;34m(\u001b[0m\u001b[0;34m*\u001b[0m\u001b[0mscores\u001b[0m\u001b[0;34m)\u001b[0m\u001b[0;34m)\u001b[0m\u001b[0;34m\u001b[0m\u001b[0;34m\u001b[0m\u001b[0m\n",
            "\u001b[0;32m/usr/local/lib/python3.6/dist-packages/sklearn/externals/joblib/parallel.py\u001b[0m in \u001b[0;36m__call__\u001b[0;34m(self, iterable)\u001b[0m\n\u001b[1;32m    928\u001b[0m \u001b[0;34m\u001b[0m\u001b[0m\n\u001b[1;32m    929\u001b[0m             \u001b[0;32mwith\u001b[0m \u001b[0mself\u001b[0m\u001b[0;34m.\u001b[0m\u001b[0m_backend\u001b[0m\u001b[0;34m.\u001b[0m\u001b[0mretrieval_context\u001b[0m\u001b[0;34m(\u001b[0m\u001b[0;34m)\u001b[0m\u001b[0;34m:\u001b[0m\u001b[0;34m\u001b[0m\u001b[0;34m\u001b[0m\u001b[0m\n\u001b[0;32m--> 930\u001b[0;31m                 \u001b[0mself\u001b[0m\u001b[0;34m.\u001b[0m\u001b[0mretrieve\u001b[0m\u001b[0;34m(\u001b[0m\u001b[0;34m)\u001b[0m\u001b[0;34m\u001b[0m\u001b[0;34m\u001b[0m\u001b[0m\n\u001b[0m\u001b[1;32m    931\u001b[0m             \u001b[0;31m# Make sure that we get a last message telling us we are done\u001b[0m\u001b[0;34m\u001b[0m\u001b[0;34m\u001b[0m\u001b[0;34m\u001b[0m\u001b[0m\n\u001b[1;32m    932\u001b[0m             \u001b[0melapsed_time\u001b[0m \u001b[0;34m=\u001b[0m \u001b[0mtime\u001b[0m\u001b[0;34m.\u001b[0m\u001b[0mtime\u001b[0m\u001b[0;34m(\u001b[0m\u001b[0;34m)\u001b[0m \u001b[0;34m-\u001b[0m \u001b[0mself\u001b[0m\u001b[0;34m.\u001b[0m\u001b[0m_start_time\u001b[0m\u001b[0;34m\u001b[0m\u001b[0;34m\u001b[0m\u001b[0m\n",
            "\u001b[0;32m/usr/local/lib/python3.6/dist-packages/sklearn/externals/joblib/parallel.py\u001b[0m in \u001b[0;36mretrieve\u001b[0;34m(self)\u001b[0m\n\u001b[1;32m    831\u001b[0m             \u001b[0;32mtry\u001b[0m\u001b[0;34m:\u001b[0m\u001b[0;34m\u001b[0m\u001b[0;34m\u001b[0m\u001b[0m\n\u001b[1;32m    832\u001b[0m                 \u001b[0;32mif\u001b[0m \u001b[0mgetattr\u001b[0m\u001b[0;34m(\u001b[0m\u001b[0mself\u001b[0m\u001b[0;34m.\u001b[0m\u001b[0m_backend\u001b[0m\u001b[0;34m,\u001b[0m \u001b[0;34m'supports_timeout'\u001b[0m\u001b[0;34m,\u001b[0m \u001b[0;32mFalse\u001b[0m\u001b[0;34m)\u001b[0m\u001b[0;34m:\u001b[0m\u001b[0;34m\u001b[0m\u001b[0;34m\u001b[0m\u001b[0m\n\u001b[0;32m--> 833\u001b[0;31m                     \u001b[0mself\u001b[0m\u001b[0;34m.\u001b[0m\u001b[0m_output\u001b[0m\u001b[0;34m.\u001b[0m\u001b[0mextend\u001b[0m\u001b[0;34m(\u001b[0m\u001b[0mjob\u001b[0m\u001b[0;34m.\u001b[0m\u001b[0mget\u001b[0m\u001b[0;34m(\u001b[0m\u001b[0mtimeout\u001b[0m\u001b[0;34m=\u001b[0m\u001b[0mself\u001b[0m\u001b[0;34m.\u001b[0m\u001b[0mtimeout\u001b[0m\u001b[0;34m)\u001b[0m\u001b[0;34m)\u001b[0m\u001b[0;34m\u001b[0m\u001b[0;34m\u001b[0m\u001b[0m\n\u001b[0m\u001b[1;32m    834\u001b[0m                 \u001b[0;32melse\u001b[0m\u001b[0;34m:\u001b[0m\u001b[0;34m\u001b[0m\u001b[0;34m\u001b[0m\u001b[0m\n\u001b[1;32m    835\u001b[0m                     \u001b[0mself\u001b[0m\u001b[0;34m.\u001b[0m\u001b[0m_output\u001b[0m\u001b[0;34m.\u001b[0m\u001b[0mextend\u001b[0m\u001b[0;34m(\u001b[0m\u001b[0mjob\u001b[0m\u001b[0;34m.\u001b[0m\u001b[0mget\u001b[0m\u001b[0;34m(\u001b[0m\u001b[0;34m)\u001b[0m\u001b[0;34m)\u001b[0m\u001b[0;34m\u001b[0m\u001b[0;34m\u001b[0m\u001b[0m\n",
            "\u001b[0;32m/usr/local/lib/python3.6/dist-packages/sklearn/externals/joblib/_parallel_backends.py\u001b[0m in \u001b[0;36mwrap_future_result\u001b[0;34m(future, timeout)\u001b[0m\n\u001b[1;32m    519\u001b[0m         AsyncResults.get from multiprocessing.\"\"\"\n\u001b[1;32m    520\u001b[0m         \u001b[0;32mtry\u001b[0m\u001b[0;34m:\u001b[0m\u001b[0;34m\u001b[0m\u001b[0;34m\u001b[0m\u001b[0m\n\u001b[0;32m--> 521\u001b[0;31m             \u001b[0;32mreturn\u001b[0m \u001b[0mfuture\u001b[0m\u001b[0;34m.\u001b[0m\u001b[0mresult\u001b[0m\u001b[0;34m(\u001b[0m\u001b[0mtimeout\u001b[0m\u001b[0;34m=\u001b[0m\u001b[0mtimeout\u001b[0m\u001b[0;34m)\u001b[0m\u001b[0;34m\u001b[0m\u001b[0;34m\u001b[0m\u001b[0m\n\u001b[0m\u001b[1;32m    522\u001b[0m         \u001b[0;32mexcept\u001b[0m \u001b[0mLokyTimeoutError\u001b[0m\u001b[0;34m:\u001b[0m\u001b[0;34m\u001b[0m\u001b[0;34m\u001b[0m\u001b[0m\n\u001b[1;32m    523\u001b[0m             \u001b[0;32mraise\u001b[0m \u001b[0mTimeoutError\u001b[0m\u001b[0;34m(\u001b[0m\u001b[0;34m)\u001b[0m\u001b[0;34m\u001b[0m\u001b[0;34m\u001b[0m\u001b[0m\n",
            "\u001b[0;32m/usr/lib/python3.6/concurrent/futures/_base.py\u001b[0m in \u001b[0;36mresult\u001b[0;34m(self, timeout)\u001b[0m\n\u001b[1;32m    425\u001b[0m                 \u001b[0;32mreturn\u001b[0m \u001b[0mself\u001b[0m\u001b[0;34m.\u001b[0m\u001b[0m__get_result\u001b[0m\u001b[0;34m(\u001b[0m\u001b[0;34m)\u001b[0m\u001b[0;34m\u001b[0m\u001b[0;34m\u001b[0m\u001b[0m\n\u001b[1;32m    426\u001b[0m \u001b[0;34m\u001b[0m\u001b[0m\n\u001b[0;32m--> 427\u001b[0;31m             \u001b[0mself\u001b[0m\u001b[0;34m.\u001b[0m\u001b[0m_condition\u001b[0m\u001b[0;34m.\u001b[0m\u001b[0mwait\u001b[0m\u001b[0;34m(\u001b[0m\u001b[0mtimeout\u001b[0m\u001b[0;34m)\u001b[0m\u001b[0;34m\u001b[0m\u001b[0;34m\u001b[0m\u001b[0m\n\u001b[0m\u001b[1;32m    428\u001b[0m \u001b[0;34m\u001b[0m\u001b[0m\n\u001b[1;32m    429\u001b[0m             \u001b[0;32mif\u001b[0m \u001b[0mself\u001b[0m\u001b[0;34m.\u001b[0m\u001b[0m_state\u001b[0m \u001b[0;32min\u001b[0m \u001b[0;34m[\u001b[0m\u001b[0mCANCELLED\u001b[0m\u001b[0;34m,\u001b[0m \u001b[0mCANCELLED_AND_NOTIFIED\u001b[0m\u001b[0;34m]\u001b[0m\u001b[0;34m:\u001b[0m\u001b[0;34m\u001b[0m\u001b[0;34m\u001b[0m\u001b[0m\n",
            "\u001b[0;32m/usr/lib/python3.6/threading.py\u001b[0m in \u001b[0;36mwait\u001b[0;34m(self, timeout)\u001b[0m\n\u001b[1;32m    293\u001b[0m         \u001b[0;32mtry\u001b[0m\u001b[0;34m:\u001b[0m    \u001b[0;31m# restore state no matter what (e.g., KeyboardInterrupt)\u001b[0m\u001b[0;34m\u001b[0m\u001b[0;34m\u001b[0m\u001b[0m\n\u001b[1;32m    294\u001b[0m             \u001b[0;32mif\u001b[0m \u001b[0mtimeout\u001b[0m \u001b[0;32mis\u001b[0m \u001b[0;32mNone\u001b[0m\u001b[0;34m:\u001b[0m\u001b[0;34m\u001b[0m\u001b[0;34m\u001b[0m\u001b[0m\n\u001b[0;32m--> 295\u001b[0;31m                 \u001b[0mwaiter\u001b[0m\u001b[0;34m.\u001b[0m\u001b[0macquire\u001b[0m\u001b[0;34m(\u001b[0m\u001b[0;34m)\u001b[0m\u001b[0;34m\u001b[0m\u001b[0;34m\u001b[0m\u001b[0m\n\u001b[0m\u001b[1;32m    296\u001b[0m                 \u001b[0mgotit\u001b[0m \u001b[0;34m=\u001b[0m \u001b[0;32mTrue\u001b[0m\u001b[0;34m\u001b[0m\u001b[0;34m\u001b[0m\u001b[0m\n\u001b[1;32m    297\u001b[0m             \u001b[0;32melse\u001b[0m\u001b[0;34m:\u001b[0m\u001b[0;34m\u001b[0m\u001b[0;34m\u001b[0m\u001b[0m\n",
            "\u001b[0;31mKeyboardInterrupt\u001b[0m: "
          ]
        }
      ]
    },
    {
      "cell_type": "code",
      "metadata": {
        "id": "X2NWfPBDBV8L",
        "colab_type": "code",
        "colab": {
          "base_uri": "https://localhost:8080/",
          "height": 163
        },
        "outputId": "680ced11-b1e9-4377-e8bc-d851c5d60228"
      },
      "source": [
        "rand=random.randint(0,len(test))\n",
        "sent=test['comment-stem'][rand]\n",
        "\n",
        "print(sent)\n",
        "for target in Col:\n",
        "    svc.fit(tfidf_vectorizer_train,data[target])\n",
        "    print(target,':',svc.predict(tfidf_vectorizer.transform([sent])))"
      ],
      "execution_count": 98,
      "outputs": [
        {
          "output_type": "stream",
          "text": [
            "adic valuat must integ\n",
            "toxic : [0]\n",
            "severe_toxic : [0]\n",
            "obscene : [0]\n",
            "threat : [0]\n",
            "insult : [0]\n",
            "identity_hate : [0]\n",
            "clean : [1]\n"
          ],
          "name": "stdout"
        }
      ]
    },
    {
      "cell_type": "markdown",
      "metadata": {
        "colab_type": "text",
        "id": "-gnMJfU0htSq"
      },
      "source": [
        "## Neural Network"
      ]
    },
    {
      "cell_type": "code",
      "metadata": {
        "colab_type": "code",
        "id": "BVBL3xCEhtTY",
        "colab": {}
      },
      "source": [
        "#list_classes = [\"toxic\", \"severe_toxic\", \"obscene\", \"threat\", \"insult\", \"identity_hate\"]\n",
        "y = data[Col].values"
      ],
      "execution_count": 0,
      "outputs": []
    },
    {
      "cell_type": "code",
      "metadata": {
        "colab_type": "code",
        "id": "f2NdfKoghtSs",
        "colab": {}
      },
      "source": [
        "# Creating object of Keras Tokeniser().\n",
        "tokenizer=Tokenizer()\n",
        "\n",
        "# map words in vocabulary to unique integers\n",
        "x_stem=data['comment-stem']\n",
        "tokenizer.fit_on_texts(x_stem)\n",
        "\n",
        "# splits comments into a list of words replaced by their index \n",
        "sequence=tokenizer.texts_to_sequences(x_stem)"
      ],
      "execution_count": 0,
      "outputs": []
    },
    {
      "cell_type": "code",
      "metadata": {
        "id": "u-GAlZz2CK75",
        "colab_type": "code",
        "colab": {
          "base_uri": "https://localhost:8080/",
          "height": 381
        },
        "outputId": "cdad0a2a-53e5-4c63-c70b-d30c6ce599ea"
      },
      "source": [
        "#words replaced by their indices for first comment\n",
        "sequence[0]"
      ],
      "execution_count": 271,
      "outputs": [
        {
          "output_type": "execute_result",
          "data": {
            "text/plain": [
              "[468,\n",
              " 4,\n",
              " 62,\n",
              " 506,\n",
              " 3244,\n",
              " 7051,\n",
              " 57,\n",
              " 217,\n",
              " 53,\n",
              " 4366,\n",
              " 420,\n",
              " 943,\n",
              " 6346,\n",
              " 7,\n",
              " 23,\n",
              " 197,\n",
              " 5,\n",
              " 2,\n",
              " 71,\n",
              " 1658]"
            ]
          },
          "metadata": {
            "tags": []
          },
          "execution_count": 271
        }
      ]
    },
    {
      "cell_type": "code",
      "metadata": {
        "id": "VCJRESxLgPxc",
        "colab_type": "code",
        "colab": {
          "base_uri": "https://localhost:8080/",
          "height": 217
        },
        "outputId": "a9cbb675-b913-481f-8688-16cc44662419"
      },
      "source": [
        "# Words with higher frequency will get lower index\n",
        "# this can also be viewed in the wordcloud\n",
        "count=0\n",
        "for word,index in tokenizer.word_index.items():\n",
        "  print(word,index)\n",
        "  count+=1\n",
        "  if count>10:\n",
        "    break"
      ],
      "execution_count": 272,
      "outputs": [
        {
          "output_type": "stream",
          "text": [
            "articl 1\n",
            "page 2\n",
            "wikipedia 3\n",
            "edit 4\n",
            "talk 5\n",
            "like 6\n",
            "pleas 7\n",
            "would 8\n",
            "delet 9\n",
            "thank 10\n",
            "sourc 11\n"
          ],
          "name": "stdout"
        }
      ]
    },
    {
      "cell_type": "code",
      "metadata": {
        "colab_type": "code",
        "id": "vIEUS8adhtS1",
        "outputId": "155aeaee-97f0-42d4-ae90-5dd3af2ccae7",
        "colab": {
          "base_uri": "https://localhost:8080/",
          "height": 269
        }
      },
      "source": [
        "# Creating a wordcloud in which words are displayed in different sizes depending on their frequency \n",
        "# of occurence in the complete corpus.\n",
        "cloud=WordCloud(background_color='white',width=2000,height=2000).generate(' '.join(x_stem))\n",
        "plt.imshow(cloud);"
      ],
      "execution_count": 221,
      "outputs": [
        {
          "output_type": "display_data",
          "data": {
            "image/png": "[encoded data removed]",
            "text/plain": [
              "<Figure size 432x288 with 1 Axes>"
            ]
          },
          "metadata": {
            "tags": []
          }
        }
      ]
    },
    {
      "cell_type": "code",
      "metadata": {
        "colab_type": "code",
        "id": "NzAlGVhvhtS_",
        "outputId": "3fc53d4c-ad15-410a-aa36-a0f13a2708e7",
        "colab": {
          "base_uri": "https://localhost:8080/",
          "height": 53
        }
      },
      "source": [
        "total_words=len(tokenizer.word_index)\n",
        "print('Total unique words:',total_words) # total unique words\n",
        "# ** total unique words will go as input to embedding layer **\n",
        "\n",
        "length_comment=[]\n",
        "comment=x_stem\n",
        "\n",
        "# Finding the maximum length comment.\n",
        "for row in comment:\n",
        "    length_comment.append(len(row.split(' ')))\n",
        "max_length_comment=max(length_comment)\n",
        "print('Max length comment:',max_length_comment) # max length of comment"
      ],
      "execution_count": 222,
      "outputs": [
        {
          "output_type": "stream",
          "text": [
            "Total unique words: 94607\n",
            "Max length comment: 1000\n"
          ],
          "name": "stdout"
        }
      ]
    },
    {
      "cell_type": "code",
      "metadata": {
        "id": "fc2FOIfWYT9j",
        "colab_type": "code",
        "colab": {}
      },
      "source": [
        "from keras.callbacks import ModelCheckpoint, EarlyStopping\n",
        "#checkpoint\n",
        "checkpoint=ModelCheckpoint(filepath='test.best.weights.hdf5',verbose=1,save_best_only=True)\n",
        "#early sotpping\n",
        "es=EarlyStopping(monitor='val_loss',mode='min',verbose=1)"
      ],
      "execution_count": 0,
      "outputs": []
    },
    {
      "cell_type": "code",
      "metadata": {
        "colab_type": "code",
        "id": "OnUIbfxKhtTe",
        "outputId": "050b5a16-e4f7-421f-85b7-921c79e40086",
        "colab": {
          "base_uri": "https://localhost:8080/",
          "height": 581
        }
      },
      "source": [
        "#maximum length comment value required for comment padding\n",
        "maxlen = max_length_comment\n",
        "\n",
        "#padding the comments to maximum comment length so that all comment are of same length\n",
        "#smaller comments will have 0 in place of absent words\n",
        "pad_doc = pad_sequences(sequence, maxlen=maxlen)\n",
        "\n",
        "\n",
        "model=Sequential()\n",
        "\n",
        "#embedding layer\n",
        "model.add(Embedding(input_dim=total_words+1, output_dim=100,input_length=maxlen))\n",
        "# input_dim : Size of the vocabulary, i.e. maximum integer index + 1.\n",
        "# output_dim : Dimension of the dense embedding.\n",
        "# put_length : Length of input sequences.\n",
        "\n",
        "model.add(Conv1D(filters=60,kernel_size=3,activation='relu'))\n",
        "model.add(MaxPooling1D(pool_size=2))\n",
        "model.add(Dropout(0.4))\n",
        "\n",
        "model.add(Conv1D(filters=40,kernel_size=2,activation='relu'))\n",
        "model.add(MaxPooling1D(pool_size=2))\n",
        "model.add(Dropout(0.3)) \n",
        "\n",
        "model.add(Conv1D(filters=35,kernel_size=2,activation='relu'))\n",
        "model.add(MaxPooling1D(pool_size=2))\n",
        "model.add(Dropout(0.3)) \n",
        "\n",
        "model.add(Flatten())\n",
        "model.add(Dense(7,activation='softmax'))          \n",
        "\n",
        "#model = Model(inputs=inp, outputs=x)\n",
        "model.compile(loss='binary_crossentropy',optimizer='adam',metrics=['accuracy'])\n",
        "\n",
        "model.summary()"
      ],
      "execution_count": 224,
      "outputs": [
        {
          "output_type": "stream",
          "text": [
            "_________________________________________________________________\n",
            "Layer (type)                 Output Shape              Param #   \n",
            "=================================================================\n",
            "embedding_9 (Embedding)      (None, 1000, 100)         9460800   \n",
            "_________________________________________________________________\n",
            "conv1d_16 (Conv1D)           (None, 998, 60)           18060     \n",
            "_________________________________________________________________\n",
            "max_pooling1d_10 (MaxPooling (None, 499, 60)           0         \n",
            "_________________________________________________________________\n",
            "dropout_15 (Dropout)         (None, 499, 60)           0         \n",
            "_________________________________________________________________\n",
            "conv1d_17 (Conv1D)           (None, 498, 40)           4840      \n",
            "_________________________________________________________________\n",
            "max_pooling1d_11 (MaxPooling (None, 249, 40)           0         \n",
            "_________________________________________________________________\n",
            "dropout_16 (Dropout)         (None, 249, 40)           0         \n",
            "_________________________________________________________________\n",
            "conv1d_18 (Conv1D)           (None, 248, 35)           2835      \n",
            "_________________________________________________________________\n",
            "max_pooling1d_12 (MaxPooling (None, 124, 35)           0         \n",
            "_________________________________________________________________\n",
            "dropout_17 (Dropout)         (None, 124, 35)           0         \n",
            "_________________________________________________________________\n",
            "flatten_4 (Flatten)          (None, 4340)              0         \n",
            "_________________________________________________________________\n",
            "dense_8 (Dense)              (None, 7)                 30387     \n",
            "=================================================================\n",
            "Total params: 9,516,922\n",
            "Trainable params: 9,516,922\n",
            "Non-trainable params: 0\n",
            "_________________________________________________________________\n"
          ],
          "name": "stdout"
        }
      ]
    },
    {
      "cell_type": "markdown",
      "metadata": {
        "id": "9PD1sU-JxIha",
        "colab_type": "text"
      },
      "source": [
        "**We can see that Embedding layer takes comments of length maxlen as input and has an output of 100 dimensions.**"
      ]
    },
    {
      "cell_type": "code",
      "metadata": {
        "id": "pHLnVL6mw6Yn",
        "colab_type": "code",
        "colab": {
          "base_uri": "https://localhost:8080/",
          "height": 292
        },
        "outputId": "cec60f95-a2e8-4dca-e997-e98c818df564"
      },
      "source": [
        "history=model.fit(pad_doc,y, batch_size=32, epochs=10, validation_split=0.4,callbacks=[es,checkpoint])"
      ],
      "execution_count": 225,
      "outputs": [
        {
          "output_type": "stream",
          "text": [
            "Train on 60000 samples, validate on 40000 samples\n",
            "Epoch 1/10\n",
            "60000/60000 [==============================] - 30s 499us/step - loss: 0.1122 - acc: 0.9592 - val_loss: 0.0873 - val_acc: 0.9625\n",
            "\n",
            "Epoch 00001: val_loss improved from inf to 0.08734, saving model to test.best.weights.hdf5\n",
            "Epoch 2/10\n",
            "60000/60000 [==============================] - 29s 476us/step - loss: 0.0808 - acc: 0.9641 - val_loss: 0.0872 - val_acc: 0.9643\n",
            "\n",
            "Epoch 00002: val_loss improved from 0.08734 to 0.08722, saving model to test.best.weights.hdf5\n",
            "Epoch 3/10\n",
            "60000/60000 [==============================] - 29s 485us/step - loss: 0.0701 - acc: 0.9674 - val_loss: 0.0945 - val_acc: 0.9663\n",
            "\n",
            "Epoch 00003: val_loss did not improve from 0.08722\n",
            "Epoch 00003: early stopping\n"
          ],
          "name": "stdout"
        }
      ]
    },
    {
      "cell_type": "code",
      "metadata": {
        "id": "sxek_OSFaCMp",
        "colab_type": "code",
        "outputId": "536629a4-ca9e-4b7b-ddcd-106e7923bf05",
        "colab": {
          "base_uri": "https://localhost:8080/",
          "height": 295
        }
      },
      "source": [
        "#plotting our result\n",
        "plt.plot(history.history['acc'])\n",
        "plt.plot(history.history['val_acc'])\n",
        "plt.title('Model Loss')\n",
        "plt.ylabel('Accuracy')\n",
        "plt.xlabel('Epochs')\n",
        "plt.legend(['train','test'],loc='upper right')\n",
        "plt.show()"
      ],
      "execution_count": 226,
      "outputs": [
        {
          "output_type": "display_data",
          "data": {
            "image/png": "[encoded data removed]",
            "text/plain": [
              "<Figure size 432x288 with 1 Axes>"
            ]
          },
          "metadata": {
            "tags": []
          }
        }
      ]
    },
    {
      "cell_type": "code",
      "metadata": {
        "id": "zQWgqjSkdPk-",
        "colab_type": "code",
        "colab": {}
      },
      "source": [
        "model.save('drive/My Drive/Project Final-Online Abuse/text.100k.best.weights.hdf5')"
      ],
      "execution_count": 0,
      "outputs": []
    },
    {
      "cell_type": "code",
      "metadata": {
        "id": "sdJLe7398cWy",
        "colab_type": "code",
        "colab": {}
      },
      "source": [
        ""
      ],
      "execution_count": 0,
      "outputs": []
    }
  ]
}