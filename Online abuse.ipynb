{
 "cells": [
  {
   "cell_type": "markdown",
   "metadata": {},
   "source": [
    "# Files imported"
   ]
  },
  {
   "cell_type": "code",
   "execution_count": 1,
   "metadata": {},
   "outputs": [
    {
     "name": "stderr",
     "output_type": "stream",
     "text": [
      "C:\\ProgramData\\Anaconda3\\lib\\site-packages\\gensim\\utils.py:1197: UserWarning: detected Windows; aliasing chunkize to chunkize_serial\n",
      "  warnings.warn(\"detected Windows; aliasing chunkize to chunkize_serial\")\n",
      "C:\\ProgramData\\Anaconda3\\lib\\site-packages\\h5py\\__init__.py:36: FutureWarning: Conversion of the second argument of issubdtype from `float` to `np.floating` is deprecated. In future, it will be treated as `np.float64 == np.dtype(float).type`.\n",
      "  from ._conv import register_converters as _register_converters\n",
      "Using TensorFlow backend.\n"
     ]
    }
   ],
   "source": [
    "import pandas as pd\n",
    "import numpy as np\n",
    "import matplotlib.pyplot as plt\n",
    "#%matplotlib.inline\n",
    "import nltk\n",
    "from nltk.corpus import stopwords\n",
    "from nltk.stem.snowball import SnowballStemmer\n",
    "from pprint import pprint\n",
    "import string\n",
    "from sklearn.manifold import TSNE\n",
    "from gensim.models import Word2Vec\n",
    "\n",
    "#Predicting\n",
    "from sklearn.feature_extraction.text import CountVectorizer\n",
    "from sklearn.feature_extraction.text import TfidfVectorizer\n",
    "from sklearn.feature_extraction.text import TfidfTransformer\n",
    "from sklearn.model_selection import cross_val_score\n",
    "from sklearn.naive_bayes import MultinomialNB\n",
    "from sklearn import svm\n",
    "from sklearn.neighbors import KNeighborsClassifier\n",
    "from sklearn.linear_model import LogisticRegression\n",
    "\n",
    "#Neural network\n",
    "from keras.preprocessing.sequence import pad_sequences\n",
    "from keras.models import Model\n",
    "from keras.layers import Dense,Flatten,Input,Dropout,GlobalMaxPool1D,Conv1D\n",
    "from keras.layers.embeddings import Embedding\n",
    "from keras.preprocessing.text import Tokenizer,text_to_word_sequence\n",
    "from pprint import pprint"
   ]
  },
  {
   "cell_type": "markdown",
   "metadata": {},
   "source": [
    "## Opening file in pandas DataFrame."
   ]
  },
  {
   "cell_type": "code",
   "execution_count": 2,
   "metadata": {},
   "outputs": [
    {
     "data": {
      "text/html": [
       "<div>\n",
       "<style scoped>\n",
       "    .dataframe tbody tr th:only-of-type {\n",
       "        vertical-align: middle;\n",
       "    }\n",
       "\n",
       "    .dataframe tbody tr th {\n",
       "        vertical-align: top;\n",
       "    }\n",
       "\n",
       "    .dataframe thead th {\n",
       "        text-align: right;\n",
       "    }\n",
       "</style>\n",
       "<table border=\"1\" class=\"dataframe\">\n",
       "  <thead>\n",
       "    <tr style=\"text-align: right;\">\n",
       "      <th></th>\n",
       "      <th>comment_text</th>\n",
       "      <th>toxic</th>\n",
       "      <th>severe_toxic</th>\n",
       "      <th>obscene</th>\n",
       "      <th>threat</th>\n",
       "      <th>insult</th>\n",
       "      <th>identity_hate</th>\n",
       "    </tr>\n",
       "  </thead>\n",
       "  <tbody>\n",
       "    <tr>\n",
       "      <th>0</th>\n",
       "      <td>Explanation\\nWhy the edits made under my usern...</td>\n",
       "      <td>0</td>\n",
       "      <td>0</td>\n",
       "      <td>0</td>\n",
       "      <td>0</td>\n",
       "      <td>0</td>\n",
       "      <td>0</td>\n",
       "    </tr>\n",
       "    <tr>\n",
       "      <th>1</th>\n",
       "      <td>D'aww! He matches this background colour I'm s...</td>\n",
       "      <td>0</td>\n",
       "      <td>0</td>\n",
       "      <td>0</td>\n",
       "      <td>0</td>\n",
       "      <td>0</td>\n",
       "      <td>0</td>\n",
       "    </tr>\n",
       "    <tr>\n",
       "      <th>2</th>\n",
       "      <td>Hey man, I'm really not trying to edit war. It...</td>\n",
       "      <td>0</td>\n",
       "      <td>0</td>\n",
       "      <td>0</td>\n",
       "      <td>0</td>\n",
       "      <td>0</td>\n",
       "      <td>0</td>\n",
       "    </tr>\n",
       "    <tr>\n",
       "      <th>3</th>\n",
       "      <td>\"\\nMore\\nI can't make any real suggestions on ...</td>\n",
       "      <td>0</td>\n",
       "      <td>0</td>\n",
       "      <td>0</td>\n",
       "      <td>0</td>\n",
       "      <td>0</td>\n",
       "      <td>0</td>\n",
       "    </tr>\n",
       "    <tr>\n",
       "      <th>4</th>\n",
       "      <td>You, sir, are my hero. Any chance you remember...</td>\n",
       "      <td>0</td>\n",
       "      <td>0</td>\n",
       "      <td>0</td>\n",
       "      <td>0</td>\n",
       "      <td>0</td>\n",
       "      <td>0</td>\n",
       "    </tr>\n",
       "    <tr>\n",
       "      <th>5</th>\n",
       "      <td>\"\\n\\nCongratulations from me as well, use the ...</td>\n",
       "      <td>0</td>\n",
       "      <td>0</td>\n",
       "      <td>0</td>\n",
       "      <td>0</td>\n",
       "      <td>0</td>\n",
       "      <td>0</td>\n",
       "    </tr>\n",
       "    <tr>\n",
       "      <th>6</th>\n",
       "      <td>COCKSUCKER BEFORE YOU PISS AROUND ON MY WORK</td>\n",
       "      <td>1</td>\n",
       "      <td>1</td>\n",
       "      <td>1</td>\n",
       "      <td>0</td>\n",
       "      <td>1</td>\n",
       "      <td>0</td>\n",
       "    </tr>\n",
       "    <tr>\n",
       "      <th>7</th>\n",
       "      <td>Your vandalism to the Matt Shirvington article...</td>\n",
       "      <td>0</td>\n",
       "      <td>0</td>\n",
       "      <td>0</td>\n",
       "      <td>0</td>\n",
       "      <td>0</td>\n",
       "      <td>0</td>\n",
       "    </tr>\n",
       "    <tr>\n",
       "      <th>8</th>\n",
       "      <td>Sorry if the word 'nonsense' was offensive to ...</td>\n",
       "      <td>0</td>\n",
       "      <td>0</td>\n",
       "      <td>0</td>\n",
       "      <td>0</td>\n",
       "      <td>0</td>\n",
       "      <td>0</td>\n",
       "    </tr>\n",
       "    <tr>\n",
       "      <th>9</th>\n",
       "      <td>alignment on this subject and which are contra...</td>\n",
       "      <td>0</td>\n",
       "      <td>0</td>\n",
       "      <td>0</td>\n",
       "      <td>0</td>\n",
       "      <td>0</td>\n",
       "      <td>0</td>\n",
       "    </tr>\n",
       "  </tbody>\n",
       "</table>\n",
       "</div>"
      ],
      "text/plain": [
       "                                        comment_text  toxic  severe_toxic  \\\n",
       "0  Explanation\\nWhy the edits made under my usern...      0             0   \n",
       "1  D'aww! He matches this background colour I'm s...      0             0   \n",
       "2  Hey man, I'm really not trying to edit war. It...      0             0   \n",
       "3  \"\\nMore\\nI can't make any real suggestions on ...      0             0   \n",
       "4  You, sir, are my hero. Any chance you remember...      0             0   \n",
       "5  \"\\n\\nCongratulations from me as well, use the ...      0             0   \n",
       "6       COCKSUCKER BEFORE YOU PISS AROUND ON MY WORK      1             1   \n",
       "7  Your vandalism to the Matt Shirvington article...      0             0   \n",
       "8  Sorry if the word 'nonsense' was offensive to ...      0             0   \n",
       "9  alignment on this subject and which are contra...      0             0   \n",
       "\n",
       "   obscene  threat  insult  identity_hate  \n",
       "0        0       0       0              0  \n",
       "1        0       0       0              0  \n",
       "2        0       0       0              0  \n",
       "3        0       0       0              0  \n",
       "4        0       0       0              0  \n",
       "5        0       0       0              0  \n",
       "6        1       0       1              0  \n",
       "7        0       0       0              0  \n",
       "8        0       0       0              0  \n",
       "9        0       0       0              0  "
      ]
     },
     "execution_count": 2,
     "metadata": {},
     "output_type": "execute_result"
    }
   ],
   "source": [
    "# Training data file.\n",
    "data=pd.read_csv(r'C:\\Users\\Dell\\Desktop\\Machine Learning\\Project\\train.csv')\n",
    "data=data.iloc[0:500,:]\n",
    "data.drop('id',axis=1,inplace=True)\n",
    "data.head(10)"
   ]
  },
  {
   "cell_type": "code",
   "execution_count": 3,
   "metadata": {
    "scrolled": true
   },
   "outputs": [],
   "source": [
    "# adding a clean column\n",
    "data['clean']=0\n",
    "Col=[\"toxic\", \"severe_toxic\", \"obscene\", \"threat\", \"insult\", \"identity_hate\"]\n",
    "\n",
    "data['clean'] = 1-data[Col].max(axis=1)"
   ]
  },
  {
   "cell_type": "code",
   "execution_count": 4,
   "metadata": {},
   "outputs": [],
   "source": [
    "# Testing data file.\n",
    "test=pd.read_csv(r'C:\\Users\\Dell\\Desktop\\Machine Learning\\Project\\test.csv')\n",
    "test=test.iloc[0:500,:]\n",
    "test.drop('id',axis=1,inplace=True)\n",
    "#test.head(2)"
   ]
  },
  {
   "cell_type": "markdown",
   "metadata": {},
   "source": [
    "Creating new column containing number of character in each comment."
   ]
  },
  {
   "cell_type": "code",
   "execution_count": 5,
   "metadata": {},
   "outputs": [],
   "source": [
    "# Character length for each comment\n",
    "data['char_length']=data['comment_text'].apply(len)"
   ]
  },
  {
   "cell_type": "markdown",
   "metadata": {},
   "source": [
    "Creating a new column containing number of words in each comment."
   ]
  },
  {
   "cell_type": "code",
   "execution_count": 6,
   "metadata": {},
   "outputs": [],
   "source": [
    "# Word length for sentence\n",
    "def word_tokenize(sent):\n",
    "    return len(nltk.word_tokenize(sent))\n",
    "data['word_length']=data['comment_text'].apply(word_tokenize)"
   ]
  },
  {
   "cell_type": "markdown",
   "metadata": {},
   "source": [
    "## Preprocessing"
   ]
  },
  {
   "cell_type": "markdown",
   "metadata": {},
   "source": [
    "**Punctuations we intend to remove from comments. These are contained in string package of Python.**"
   ]
  },
  {
   "cell_type": "code",
   "execution_count": 7,
   "metadata": {},
   "outputs": [
    {
     "name": "stdout",
     "output_type": "stream",
     "text": [
      "!\"#$%&'()*+,-./:;<=>?@[\\]^_`{|}~\n"
     ]
    }
   ],
   "source": [
    "print(string.punctuation)"
   ]
  },
  {
   "cell_type": "markdown",
   "metadata": {},
   "source": [
    "**Removing non-alphanumeric symbols like '\\n','\\t',etc.**"
   ]
  },
  {
   "cell_type": "code",
   "execution_count": 8,
   "metadata": {},
   "outputs": [],
   "source": [
    "# Removes non-alphanumeric symbols like \\n ,\n",
    "import re\n",
    "def strip_symbols(text):\n",
    "    return ' '.join(re.compile(r'\\W+').split(text)) \n",
    "\n",
    "# W+ matches any non-alphanumeric char\n",
    "# re.compile() converts string to regular expression object\n",
    "# .split(text) splits "
   ]
  },
  {
   "cell_type": "code",
   "execution_count": 9,
   "metadata": {},
   "outputs": [
    {
     "data": {
      "text/plain": [
       "'I Can mrd can_ make 8888 a new sentence rehrwYYY Mr R '"
      ]
     },
     "execution_count": 9,
     "metadata": {},
     "output_type": "execute_result"
    }
   ],
   "source": [
    "# Example\n",
    "strip_symbols('I\\n \\\\ Can, mrd can_ make 8888 a new sentence!!!!!! #### rehrwYYY @Mr.R.')"
   ]
  },
  {
   "cell_type": "markdown",
   "metadata": {},
   "source": [
    "**Stop-words are words that occur frequently but carry negligible information. Example:'I','are','you',etc.**\n",
    "\n",
    "**Below is the function to remove stop-words from the comments.**"
   ]
  },
  {
   "cell_type": "code",
   "execution_count": 10,
   "metadata": {},
   "outputs": [],
   "source": [
    "# Function to remove stopwords from comments\n",
    "\n",
    "def stop_word_removal(comment):\n",
    "    stop_comment=[]\n",
    "    nopunc=[]\n",
    "    \n",
    "    # Checking if the characters are punctions\n",
    "    for char in comment:\n",
    "        if char not in string.punctuation:\n",
    "            nopunc.append(char)\n",
    "    \n",
    "            \n",
    "    # Joining the characters again to form the string.\n",
    "    nopunc = ''.join(nopunc) # .join() takes a list of things to join with the string\n",
    "\n",
    "    # Removing the stopwords\n",
    "    for word in nopunc.split(' '):\n",
    "        if word.lower() not in stopwords.words('english'):\n",
    "            stop_comment.append(word.lower())\n",
    "    return ' '.join(stop_comment)\n"
   ]
  },
  {
   "cell_type": "code",
   "execution_count": 11,
   "metadata": {},
   "outputs": [
    {
     "data": {
      "text/plain": [
       "'i\\n mrd make 8888 new sentence  rehrwyyy mrr'"
      ]
     },
     "execution_count": 11,
     "metadata": {},
     "output_type": "execute_result"
    }
   ],
   "source": [
    "stop_word_removal('I\\n Can, mrd can_ make 8888 a new sentence!!!!!! #### rehrwYYY @Mr.R.')"
   ]
  },
  {
   "cell_type": "markdown",
   "metadata": {},
   "source": [
    "**The process of stemming of words is to reduce them to their root. Example:Stem word of 'listing' is 'list' and of 'commited' is 'commit'.**\n",
    "\n",
    "**Below is the function to stem the comments.**"
   ]
  },
  {
   "cell_type": "code",
   "execution_count": 12,
   "metadata": {},
   "outputs": [],
   "source": [
    "# Function to stem the comments\n",
    "def stem(text):\n",
    "    text = text.split()\n",
    "    stemmer = SnowballStemmer('english')\n",
    "    stemmed_words = [stemmer.stem(word) for word in text]\n",
    "    text = \" \".join(stemmed_words)\n",
    "    return text"
   ]
  },
  {
   "cell_type": "code",
   "execution_count": 13,
   "metadata": {},
   "outputs": [
    {
     "data": {
      "text/plain": [
       "'exampl sentenc to display stem of sentences.'"
      ]
     },
     "execution_count": 13,
     "metadata": {},
     "output_type": "execute_result"
    }
   ],
   "source": [
    "# Example\n",
    "stem('Example sentence to displays stemming of sentences.')"
   ]
  },
  {
   "cell_type": "markdown",
   "metadata": {},
   "source": [
    " **Applying preprocessing to training data.**"
   ]
  },
  {
   "cell_type": "code",
   "execution_count": 14,
   "metadata": {},
   "outputs": [],
   "source": [
    "# Creating new columns which contains comments without non-alphanumeric char\n",
    "data['comment-stop']=data['comment_text'].apply(strip_symbols)\n",
    "\n",
    "# Removing stop words\n",
    "data['comment-stop']=data['comment-stop'].apply(stop_word_removal)\n",
    "\n",
    "# Normalizing=Converting to lowercase\n",
    "data['comment-stop']=data['comment-stop'].apply(lambda x: x.lower())\n",
    "\n",
    "# Stemming comments\n",
    "data['comment-stem']=data['comment-stop'].apply(stem)\n"
   ]
  },
  {
   "cell_type": "code",
   "execution_count": 15,
   "metadata": {},
   "outputs": [
    {
     "data": {
      "text/html": [
       "<div>\n",
       "<style scoped>\n",
       "    .dataframe tbody tr th:only-of-type {\n",
       "        vertical-align: middle;\n",
       "    }\n",
       "\n",
       "    .dataframe tbody tr th {\n",
       "        vertical-align: top;\n",
       "    }\n",
       "\n",
       "    .dataframe thead th {\n",
       "        text-align: right;\n",
       "    }\n",
       "</style>\n",
       "<table border=\"1\" class=\"dataframe\">\n",
       "  <thead>\n",
       "    <tr style=\"text-align: right;\">\n",
       "      <th></th>\n",
       "      <th>comment_text</th>\n",
       "      <th>toxic</th>\n",
       "      <th>severe_toxic</th>\n",
       "      <th>obscene</th>\n",
       "      <th>threat</th>\n",
       "      <th>insult</th>\n",
       "      <th>identity_hate</th>\n",
       "      <th>clean</th>\n",
       "      <th>char_length</th>\n",
       "      <th>word_length</th>\n",
       "      <th>comment-stop</th>\n",
       "      <th>comment-stem</th>\n",
       "    </tr>\n",
       "  </thead>\n",
       "  <tbody>\n",
       "    <tr>\n",
       "      <th>0</th>\n",
       "      <td>Explanation\\nWhy the edits made under my usern...</td>\n",
       "      <td>0</td>\n",
       "      <td>0</td>\n",
       "      <td>0</td>\n",
       "      <td>0</td>\n",
       "      <td>0</td>\n",
       "      <td>0</td>\n",
       "      <td>1</td>\n",
       "      <td>264</td>\n",
       "      <td>49</td>\n",
       "      <td>explanation edits made username hardcore metal...</td>\n",
       "      <td>explan edit made usernam hardcor metallica fan...</td>\n",
       "    </tr>\n",
       "    <tr>\n",
       "      <th>1</th>\n",
       "      <td>D'aww! He matches this background colour I'm s...</td>\n",
       "      <td>0</td>\n",
       "      <td>0</td>\n",
       "      <td>0</td>\n",
       "      <td>0</td>\n",
       "      <td>0</td>\n",
       "      <td>0</td>\n",
       "      <td>1</td>\n",
       "      <td>112</td>\n",
       "      <td>27</td>\n",
       "      <td>aww matches background colour seemingly stuck ...</td>\n",
       "      <td>aww match background colour seem stuck thank t...</td>\n",
       "    </tr>\n",
       "    <tr>\n",
       "      <th>2</th>\n",
       "      <td>Hey man, I'm really not trying to edit war. It...</td>\n",
       "      <td>0</td>\n",
       "      <td>0</td>\n",
       "      <td>0</td>\n",
       "      <td>0</td>\n",
       "      <td>0</td>\n",
       "      <td>0</td>\n",
       "      <td>1</td>\n",
       "      <td>233</td>\n",
       "      <td>48</td>\n",
       "      <td>hey man really trying edit war guy constantly ...</td>\n",
       "      <td>hey man realli tri edit war guy constant remov...</td>\n",
       "    </tr>\n",
       "    <tr>\n",
       "      <th>3</th>\n",
       "      <td>\"\\nMore\\nI can't make any real suggestions on ...</td>\n",
       "      <td>0</td>\n",
       "      <td>0</td>\n",
       "      <td>0</td>\n",
       "      <td>0</td>\n",
       "      <td>0</td>\n",
       "      <td>0</td>\n",
       "      <td>1</td>\n",
       "      <td>622</td>\n",
       "      <td>128</td>\n",
       "      <td>make real suggestions improvement wondered se...</td>\n",
       "      <td>make real suggest improv wonder section statis...</td>\n",
       "    </tr>\n",
       "    <tr>\n",
       "      <th>4</th>\n",
       "      <td>You, sir, are my hero. Any chance you remember...</td>\n",
       "      <td>0</td>\n",
       "      <td>0</td>\n",
       "      <td>0</td>\n",
       "      <td>0</td>\n",
       "      <td>0</td>\n",
       "      <td>0</td>\n",
       "      <td>1</td>\n",
       "      <td>67</td>\n",
       "      <td>18</td>\n",
       "      <td>sir hero chance remember page</td>\n",
       "      <td>sir hero chanc rememb page</td>\n",
       "    </tr>\n",
       "  </tbody>\n",
       "</table>\n",
       "</div>"
      ],
      "text/plain": [
       "                                        comment_text  toxic  severe_toxic  \\\n",
       "0  Explanation\\nWhy the edits made under my usern...      0             0   \n",
       "1  D'aww! He matches this background colour I'm s...      0             0   \n",
       "2  Hey man, I'm really not trying to edit war. It...      0             0   \n",
       "3  \"\\nMore\\nI can't make any real suggestions on ...      0             0   \n",
       "4  You, sir, are my hero. Any chance you remember...      0             0   \n",
       "\n",
       "   obscene  threat  insult  identity_hate  clean  char_length  word_length  \\\n",
       "0        0       0       0              0      1          264           49   \n",
       "1        0       0       0              0      1          112           27   \n",
       "2        0       0       0              0      1          233           48   \n",
       "3        0       0       0              0      1          622          128   \n",
       "4        0       0       0              0      1           67           18   \n",
       "\n",
       "                                        comment-stop  \\\n",
       "0  explanation edits made username hardcore metal...   \n",
       "1  aww matches background colour seemingly stuck ...   \n",
       "2  hey man really trying edit war guy constantly ...   \n",
       "3   make real suggestions improvement wondered se...   \n",
       "4                     sir hero chance remember page    \n",
       "\n",
       "                                        comment-stem  \n",
       "0  explan edit made usernam hardcor metallica fan...  \n",
       "1  aww match background colour seem stuck thank t...  \n",
       "2  hey man realli tri edit war guy constant remov...  \n",
       "3  make real suggest improv wonder section statis...  \n",
       "4                         sir hero chanc rememb page  "
      ]
     },
     "execution_count": 15,
     "metadata": {},
     "output_type": "execute_result"
    }
   ],
   "source": [
    "data.head()"
   ]
  },
  {
   "cell_type": "markdown",
   "metadata": {},
   "source": [
    "**Applying preprocessing to the testing data.**"
   ]
  },
  {
   "cell_type": "code",
   "execution_count": 16,
   "metadata": {},
   "outputs": [],
   "source": [
    "# Creating new columns which contains comments without non-alphanumeric char\n",
    "test['comment-stop']=test['comment_text'].apply(strip_symbols)\n",
    "\n",
    "# Removing stop words\n",
    "test['comment-stop']=test['comment-stop'].apply(stop_word_removal)\n",
    "\n",
    "# Normalizing=Converting to lowercase\n",
    "test['comment-stop']=test['comment-stop'].apply(lambda x: x.lower())\n",
    "\n",
    "# Stemming comments\n",
    "test['comment-stem']=test['comment-stop'].apply(stem)\n"
   ]
  },
  {
   "cell_type": "markdown",
   "metadata": {},
   "source": [
    "## Predicting"
   ]
  },
  {
   "cell_type": "markdown",
   "metadata": {},
   "source": [
    "**NOTE : TfidfVectorizer = CountVectorizer followed by TfidfTransformer**"
   ]
  },
  {
   "cell_type": "markdown",
   "metadata": {},
   "source": [
    "**Comparing number of unique words in unclean, clean and stemmed comments.**"
   ]
  },
  {
   "cell_type": "code",
   "execution_count": 17,
   "metadata": {},
   "outputs": [],
   "source": [
    "Col=[\"toxic\", \"severe_toxic\", \"obscene\", \"threat\", \"insult\", \"identity_hate\"]"
   ]
  },
  {
   "cell_type": "code",
   "execution_count": 18,
   "metadata": {},
   "outputs": [
    {
     "name": "stdout",
     "output_type": "stream",
     "text": [
      "(500, 5796)\n",
      "(500, 5796)\n"
     ]
    }
   ],
   "source": [
    "# Unique words in unclean comments\n",
    "\n",
    "x_stem=data['comment_text']\n",
    "vector_stem=CountVectorizer()\n",
    "transform_stem=vector_stem.fit_transform(x_stem)\n",
    "print(transform_stem.shape) # rowsXwords \n",
    "\n",
    "#tfidf transform\n",
    "tf_stem=TfidfTransformer()\n",
    "tf_transform_stem=tf_stem.fit_transform(transform_stem)\n",
    "print(tf_transform_stem.shape) # rowsXwords "
   ]
  },
  {
   "cell_type": "code",
   "execution_count": 19,
   "metadata": {},
   "outputs": [
    {
     "name": "stdout",
     "output_type": "stream",
     "text": [
      "(500, 5659)\n",
      "(500, 5659)\n"
     ]
    }
   ],
   "source": [
    "# Unique words in clean comments\n",
    "\n",
    "x_stem=data['comment-stop']\n",
    "vector_stem=CountVectorizer()\n",
    "transform_stem=vector_stem.fit_transform(x_stem)\n",
    "print(transform_stem.shape) # rowsXwords \n",
    "\n",
    "#tfidf transform\n",
    "tf_stem=TfidfTransformer()\n",
    "tf_transform_stem=tf_stem.fit_transform(transform_stem)\n",
    "print(tf_transform_stem.shape) # rowsXwords "
   ]
  },
  {
   "cell_type": "code",
   "execution_count": 20,
   "metadata": {
    "scrolled": true
   },
   "outputs": [
    {
     "name": "stdout",
     "output_type": "stream",
     "text": [
      "(500, 4387)\n",
      "(500, 4387)\n"
     ]
    }
   ],
   "source": [
    "# Unique words in stem comments\n",
    "\n",
    "x_stem=data['comment-stem']\n",
    "\n",
    "# Countvectorizer\n",
    "vector_stem=CountVectorizer()\n",
    "transform_stem=vector_stem.fit_transform(x_stem)\n",
    "print(transform_stem.shape) # rowsXwords \n",
    "\n",
    "#Tfidf transform\n",
    "tf_stem=TfidfTransformer()\n",
    "tf_transform_stem=tf_stem.fit_transform(transform_stem)\n",
    "print(tf_transform_stem.shape) # rowsXwords \n"
   ]
  },
  {
   "cell_type": "markdown",
   "metadata": {},
   "source": [
    "**We can see from above results that cleaning and stemming comments helps in reducing the number of unique words.**"
   ]
  },
  {
   "cell_type": "markdown",
   "metadata": {},
   "source": [
    "**We can write unique stemmed words to a csv file.**"
   ]
  },
  {
   "cell_type": "code",
   "execution_count": 21,
   "metadata": {},
   "outputs": [],
   "source": [
    "# words=transform_stem\n",
    "# #words.columns=list_of_words\n",
    "\n",
    "# df_word=pd.DataFrame(words.todense())\n",
    "# df_word.columns=vector_stem.get_feature_names() # assigning column name based on the corresponding word\n",
    "\n",
    "# df_word.to_csv('Words.csv',index=False)\n",
    "# #df_word # Dataframe column contains word in sparse vector."
   ]
  },
  {
   "cell_type": "markdown",
   "metadata": {},
   "source": [
    "**Predicting on testing data.**"
   ]
  },
  {
   "cell_type": "code",
   "execution_count": 22,
   "metadata": {},
   "outputs": [
    {
     "name": "stdout",
     "output_type": "stream",
     "text": [
      "(1, 39)\n"
     ]
    }
   ],
   "source": [
    "test_stem=[test['comment-stop'][0]]\n",
    "\n",
    "test_vector_stem=CountVectorizer()\n",
    "test_transform_stem=test_vector_stem.fit_transform(test_stem)\n",
    "\n",
    "test_tf_stem=TfidfTransformer()\n",
    "test_tf_transform_stem=test_tf_stem.fit_transform(test_transform_stem)\n",
    "print(test_tf_transform_stem.shape) # rowsXwords "
   ]
  },
  {
   "cell_type": "markdown",
   "metadata": {},
   "source": [
    "### Predicting on stemmed comments."
   ]
  },
  {
   "cell_type": "markdown",
   "metadata": {},
   "source": [
    "### Logistic Regression"
   ]
  },
  {
   "cell_type": "code",
   "execution_count": 23,
   "metadata": {},
   "outputs": [
    {
     "name": "stdout",
     "output_type": "stream",
     "text": [
      "\n",
      "Tfidf:\n",
      "\n",
      "toxic : 0.9020064321029136\n",
      "severe_toxic : 0.992\n",
      "obscene : 0.9460071361141779\n",
      "threat : 0.996\n",
      "insult : 0.9460071361141779\n",
      "identity_hate : 0.988\n"
     ]
    }
   ],
   "source": [
    "# Logistic Regression\n",
    "lr=LogisticRegression()\n",
    "\n",
    "# print('Bag of words:\\n')\n",
    "# for target in Col:\n",
    "#     score=cross_val_score(lr,transform_stem.toarray(),data[target],cv=2)\n",
    "#     print(target,':',score.mean())\n",
    "    \n",
    "print('\\nTfidf:\\n')\n",
    "for target in Col:\n",
    "    score_tf=cross_val_score(lr,tf_transform_stem.toarray(),data[target],cv=2)\n",
    "    print(target,':',score_tf.mean())"
   ]
  },
  {
   "cell_type": "markdown",
   "metadata": {},
   "source": [
    "**Predicting on an untrained example comment.**"
   ]
  },
  {
   "cell_type": "code",
   "execution_count": 24,
   "metadata": {},
   "outputs": [
    {
     "name": "stdout",
     "output_type": "stream",
     "text": [
      "['fuck anti semit cunt']\n"
     ]
    }
   ],
   "source": [
    "# The example comment we are testing on.\n",
    "# The comment no. is behind by two counts compared to the excel sheet.\n",
    "print([test['comment-stem'][59]])"
   ]
  },
  {
   "cell_type": "code",
   "execution_count": 25,
   "metadata": {},
   "outputs": [
    {
     "name": "stdout",
     "output_type": "stream",
     "text": [
      "toxic : [1]\n",
      "severe_toxic : [0]\n",
      "obscene : [1]\n",
      "threat : [0]\n",
      "insult : [0]\n",
      "identity_hate : [0]\n"
     ]
    }
   ],
   "source": [
    "for target in Col:\n",
    "    lr.fit(transform_stem,data[target])\n",
    "    print(target,':',lr.predict(vector_stem.transform([test['comment-stem'][59]])))"
   ]
  },
  {
   "cell_type": "markdown",
   "metadata": {},
   "source": [
    "### Naive Bayes"
   ]
  },
  {
   "cell_type": "code",
   "execution_count": 26,
   "metadata": {},
   "outputs": [
    {
     "name": "stdout",
     "output_type": "stream",
     "text": [
      "\n",
      "Tfidf:\n",
      "\n",
      "toxic : 0.9020064321029136\n",
      "severe_toxic : 0.992\n",
      "obscene : 0.9460071361141779\n",
      "threat : 0.996\n",
      "insult : 0.9460071361141779\n",
      "identity_hate : 0.988\n"
     ]
    }
   ],
   "source": [
    "# Naive bayes on stemmed comments data\n",
    "naive=MultinomialNB()\n",
    "\n",
    "# print('Bag of words:\\n')\n",
    "# for target in Col:\n",
    "#     score=cross_val_score(naive,transform_stem.toarray(),data[target],cv=2)\n",
    "#     print(target,':',score.mean())\n",
    "    \n",
    "print('\\nTfidf:\\n')\n",
    "for target in Col:\n",
    "    score_tf=cross_val_score(naive,tf_transform_stem.toarray(),data[target],cv=2)\n",
    "    print(target,':',score_tf.mean())"
   ]
  },
  {
   "cell_type": "markdown",
   "metadata": {},
   "source": [
    "**Predicting on an untrained example comment.**"
   ]
  },
  {
   "cell_type": "code",
   "execution_count": 27,
   "metadata": {
    "scrolled": false
   },
   "outputs": [
    {
     "name": "stdout",
     "output_type": "stream",
     "text": [
      "toxic : [1]\n",
      "severe_toxic : [0]\n",
      "obscene : [0]\n",
      "threat : [0]\n",
      "insult : [0]\n",
      "identity_hate : [0]\n"
     ]
    }
   ],
   "source": [
    "for target in Col:\n",
    "    naive.fit(transform_stem,data[target])\n",
    "    print(target,':',naive.predict(vector_stem.transform([test['comment-stem'][99]])))"
   ]
  },
  {
   "cell_type": "markdown",
   "metadata": {},
   "source": [
    "### SVM"
   ]
  },
  {
   "cell_type": "code",
   "execution_count": 28,
   "metadata": {},
   "outputs": [
    {
     "name": "stdout",
     "output_type": "stream",
     "text": [
      "\n",
      "Tfidf:\n",
      "\n",
      "toxic : 0.9199987199795197\n",
      "severe_toxic : 0.992\n",
      "obscene : 0.9580073281172499\n",
      "threat : 0.996\n",
      "insult : 0.9500072001152018\n",
      "identity_hate : 0.986\n"
     ]
    }
   ],
   "source": [
    "# Using best result for hyperparamter from gridsearchCV.\n",
    "\n",
    "support=svm.SVC(kernel='linear',C=3,random_state=27)\n",
    "\n",
    "# print('Bag of words:\\n')\n",
    "# for target in Col:\n",
    "#     score=cross_val_score(support,transform_stem.toarray(),data[target],cv=2)\n",
    "#     print(target,':',score.mean())\n",
    "    \n",
    "print('\\nTfidf:\\n')\n",
    "for target in Col:\n",
    "    score_tf=cross_val_score(support,tf_transform_stem.toarray(),data[target],cv=2)\n",
    "    print(target,':',score_tf.mean())\n"
   ]
  },
  {
   "cell_type": "markdown",
   "metadata": {},
   "source": [
    "**Predicting on an untrained example comment.**"
   ]
  },
  {
   "cell_type": "code",
   "execution_count": 29,
   "metadata": {},
   "outputs": [
    {
     "name": "stdout",
     "output_type": "stream",
     "text": [
      "toxic : [1]\n",
      "severe_toxic : [0]\n",
      "obscene : [1]\n",
      "threat : [0]\n",
      "insult : [0]\n",
      "identity_hate : [0]\n"
     ]
    }
   ],
   "source": [
    "for target in Col:\n",
    "    support.fit(transform_stem,data[target])\n",
    "    print(target,':',support.predict(vector_stem.transform([test['comment-stem'][59]])))"
   ]
  },
  {
   "cell_type": "markdown",
   "metadata": {},
   "source": [
    "#### Just to check,predicted on comment 6 of data. SVM does better than Naive Bayes clearly."
   ]
  },
  {
   "cell_type": "code",
   "execution_count": 30,
   "metadata": {},
   "outputs": [
    {
     "name": "stdout",
     "output_type": "stream",
     "text": [
      "toxic : [1]\n",
      "severe_toxic : [1]\n",
      "obscene : [1]\n",
      "threat : [0]\n",
      "insult : [1]\n",
      "identity_hate : [0]\n"
     ]
    }
   ],
   "source": [
    "for target in Col:\n",
    "    support.fit(transform_stem,data[target])\n",
    "    print(target,':',support.predict(vector_stem.transform([data['comment-stem'][6]])))"
   ]
  },
  {
   "cell_type": "markdown",
   "metadata": {},
   "source": [
    "### KNN"
   ]
  },
  {
   "cell_type": "code",
   "execution_count": 31,
   "metadata": {},
   "outputs": [
    {
     "name": "stdout",
     "output_type": "stream",
     "text": [
      "\n",
      "Tfidf:\n",
      "\n",
      "toxic : 0.9280148482375719\n",
      "severe_toxic : 0.992\n",
      "obscene : 0.966007456119298\n",
      "threat : 0.996\n",
      "insult : 0.960015360245764\n",
      "identity_hate : 0.988\n"
     ]
    }
   ],
   "source": [
    "# KNN\n",
    "knn=KNeighborsClassifier(n_neighbors=5,algorithm='auto')\n",
    "\n",
    "Col=[\"toxic\", \"severe_toxic\", \"obscene\", \"threat\", \"insult\", \"identity_hate\"]\n",
    "\n",
    "# print('Bag of words:\\n')\n",
    "# for target in Col:\n",
    "#     score=cross_val_score(knn,transform_stem.toarray(),data[target],cv=2)\n",
    "#     print(target,':',score.mean())\n",
    "    \n",
    "print('\\nTfidf:\\n')\n",
    "for target in Col:\n",
    "    score_tf=cross_val_score(knn,tf_transform_stem.toarray(),data[target],cv=2)\n",
    "    print(target,':',score_tf.mean())"
   ]
  },
  {
   "cell_type": "markdown",
   "metadata": {},
   "source": [
    "**Predicting on an untrained example comment.**"
   ]
  },
  {
   "cell_type": "code",
   "execution_count": 32,
   "metadata": {
    "scrolled": true
   },
   "outputs": [
    {
     "name": "stdout",
     "output_type": "stream",
     "text": [
      "toxic : [0]\n",
      "severe_toxic : [0]\n",
      "obscene : [0]\n",
      "threat : [0]\n",
      "insult : [0]\n",
      "identity_hate : [0]\n"
     ]
    }
   ],
   "source": [
    "for target in Col:\n",
    "    knn.fit(transform_stem,data[target])\n",
    "    print(target,':',knn.predict(vector_stem.transform([test['comment-stem'][59]])))"
   ]
  },
  {
   "cell_type": "markdown",
   "metadata": {},
   "source": [
    "**Saving all the results in a dataframe.**"
   ]
  },
  {
   "cell_type": "code",
   "execution_count": 33,
   "metadata": {},
   "outputs": [],
   "source": [
    "Col=[\"toxic\", \"severe_toxic\", \"obscene\", \"threat\", \"insult\", \"identity_hate\"]\n",
    "Index=['Logistic','Naive','SVM','knn']\n",
    "df_count=pd.DataFrame(columns=Col,index=Index)"
   ]
  },
  {
   "cell_type": "code",
   "execution_count": 34,
   "metadata": {
    "scrolled": true
   },
   "outputs": [
    {
     "name": "stdout",
     "output_type": "stream",
     "text": [
      "TfidfVect:\n",
      "             toxic severe_toxic   obscene threat    insult identity_hate\n",
      "Logistic  0.902006        0.992  0.946007  0.996  0.946007         0.988\n",
      "Naive     0.902006        0.992  0.946007  0.996  0.946007         0.988\n",
      "SVM       0.919999        0.992  0.958007  0.996  0.950007         0.986\n",
      "knn       0.928015        0.992  0.966007  0.996  0.960015         0.988\n"
     ]
    }
   ],
   "source": [
    "Logistic=LogisticRegression()\n",
    "Naive=MultinomialNB()\n",
    "SVM=svm.SVC(kernel='linear',C=3,random_state=27)\n",
    "knn=KNeighborsClassifier(n_neighbors=5,algorithm='auto')\n",
    "\n",
    "algo_ref=[Logistic,Naive,SVM,knn]\n",
    "algo_name=['Logistic','Naive','SVM','knn']\n",
    "algos=[lr,naive,support,knn]\n",
    "\n",
    "for index in range(len(algo_name)):\n",
    "    for i in Col:\n",
    "        score_tf_all={}\n",
    "        score_count=cross_val_score(algo_ref[index],tf_transform_stem.toarray(),data[i],cv=2)\n",
    "        df_count.loc[algo_name[index]][i]=score_count.mean()\n",
    "\n",
    "print('TfidfVect:')\n",
    "print(df_count)"
   ]
  },
  {
   "cell_type": "markdown",
   "metadata": {},
   "source": [
    "## Neural Network"
   ]
  },
  {
   "cell_type": "code",
   "execution_count": 35,
   "metadata": {},
   "outputs": [],
   "source": [
    "# Creating object of Keras Tokeniser().\n",
    "tokenizer=Tokenizer()\n",
    "# Fit this object on stemming data.\n",
    "tokenizer.fit_on_texts(x_stem)\n",
    "# Saving the one-hot encoded format of words in a list.\n",
    "sequence=tokenizer.texts_to_sequences(x_stem) # splits comments into a list of words(replaced by their index)\n",
    "\n",
    "#tokenizer.fit_on_texts(list(x_unclean))\n",
    "#sequence=tokenizer.texts_to_sequences(x_unclean)\n",
    "#pprint(tokenizer.word_index)"
   ]
  },
  {
   "cell_type": "code",
   "execution_count": 36,
   "metadata": {},
   "outputs": [
    {
     "data": {
      "text/plain": [
       "<matplotlib.image.AxesImage at 0x199be2e7ac8>"
      ]
     },
     "execution_count": 36,
     "metadata": {},
     "output_type": "execute_result"
    },
    {
     "data": {
      "image/png": "[encoded data removed]",
      "text/plain": [
       "<Figure size 432x288 with 1 Axes>"
      ]
     },
     "metadata": {},
     "output_type": "display_data"
    }
   ],
   "source": [
    "# Creating a wordcloud in which words are displayed in different sizes depending on their frequency \n",
    "# of occurence in the complete corpus.\n",
    "from wordcloud import WordCloud\n",
    "cloud=WordCloud(background_color='white',width=2000,height=2000).generate(' '.join(x_stem))\n",
    "plt.imshow(cloud)"
   ]
  },
  {
   "cell_type": "code",
   "execution_count": 37,
   "metadata": {},
   "outputs": [
    {
     "name": "stdout",
     "output_type": "stream",
     "text": [
      "Total unique words: 4711\n",
      "Max length comment: 757\n"
     ]
    }
   ],
   "source": [
    "total_words=len(tokenizer.word_index)\n",
    "print('Total unique words:',total_words) # total unique words\n",
    "# **total unique words will go as input to embedding layer**\n",
    "\n",
    "length_comment=[]\n",
    "comment=x_stem\n",
    "\n",
    "# Finding the maximum length comment.\n",
    "for row in comment:\n",
    "    length_comment.append(len(row.split(' ')))\n",
    "max_length_comment=max(length_comment)\n",
    "print('Max length comment:',max_length_comment) # max length of comment"
   ]
  },
  {
   "cell_type": "code",
   "execution_count": 38,
   "metadata": {},
   "outputs": [
    {
     "data": {
      "image/png": "[encoded data removed]",
      "text/plain": [
       "<Figure size 432x288 with 1 Axes>"
      ]
     },
     "metadata": {},
     "output_type": "display_data"
    },
    {
     "name": "stdout",
     "output_type": "stream",
     "text": [
      "From above graph we can deduce that most comments have length about 0-50 words\n"
     ]
    }
   ],
   "source": [
    "# Saving comment length in a list.\n",
    "totalNumWords = [len(comment) for comment in sequence]\n",
    "# Plotting a histogram\n",
    "plt.hist(totalNumWords,bins = range(0,400,20),color='orange')\n",
    "plt.yticks(range(0,300,50))\n",
    "plt.xticks(range(0,900,50))\n",
    "plt.title('Comment length frequency')\n",
    "plt.ylabel('No. of comments')\n",
    "plt.xlabel('Comment length')\n",
    "plt.show()\n",
    "print('From above graph we can deduce that most comments have length about 0-50 words')"
   ]
  },
  {
   "cell_type": "code",
   "execution_count": 49,
   "metadata": {},
   "outputs": [
    {
     "data": {
      "image/png": "[encoded data removed]",
      "text/plain": [
       "<Figure size 720x720 with 1 Axes>"
      ]
     },
     "metadata": {},
     "output_type": "display_data"
    },
    {
     "name": "stdout",
     "output_type": "stream",
     "text": [
      "Clean comments tend to be a bit longer.\n"
     ]
    }
   ],
   "source": [
    "# Creating a box plot to compare the comment length according to specific target columns.\n",
    "toxic=(data['toxic']==1)\n",
    "clean=(data['clean']==1)\n",
    "severe=(data['severe_toxic']==1)\n",
    "obscene=(data['obscene']==1)\n",
    "threat=(data['threat']==1)\n",
    "insult=(data['insult']==1)\n",
    "identity=(data['identity_hate']==1)\n",
    "\n",
    "clean_len=data.loc[clean]['word_length']\n",
    "toxic_len=data.loc[toxic]['word_length']\n",
    "severe_len=data.loc[severe]['word_length']\n",
    "obscene_len=data.loc[obscene]['word_length']\n",
    "threat_len=data.loc[threat]['word_length']\n",
    "insult_len=data.loc[insult]['word_length']\n",
    "identity_len=data.loc[identity]['word_length']\n",
    "\n",
    "plt.boxplot([clean_len,toxic_len,severe_len,obscene_len,threat_len,insult_len,identity_len],notch=True,labels=['Clean','Toxic','Severe','Obscene','Threat','Insult','Identity hate'])\n",
    "plt.yticks(range(0,1000,50))\n",
    "plt.title('Comment length frequency box-plot')\n",
    "plt.xlabel('Comment type')\n",
    "plt.ylabel('Comment length')\n",
    "plt.show()\n",
    "\n",
    "print('Clean comments tend to be a bit longer.')"
   ]
  },
  {
   "cell_type": "code",
   "execution_count": 40,
   "metadata": {},
   "outputs": [],
   "source": [
    "list_classes = [\"toxic\", \"severe_toxic\", \"obscene\", \"threat\", \"insult\", \"identity_hate\"]\n",
    "y = data[list_classes].values"
   ]
  },
  {
   "cell_type": "code",
   "execution_count": 41,
   "metadata": {
    "scrolled": true
   },
   "outputs": [
    {
     "name": "stdout",
     "output_type": "stream",
     "text": [
      "Train on 450 samples, validate on 50 samples\n",
      "Epoch 1/5\n",
      "450/450 [==============================] - 4s 9ms/step - loss: 0.2454 - acc: 0.9596 - val_loss: 0.2121 - val_acc: 0.9800\n",
      "Epoch 2/5\n",
      "450/450 [==============================] - 2s 4ms/step - loss: 0.2421 - acc: 0.9596 - val_loss: 0.2106 - val_acc: 0.9800\n",
      "Epoch 3/5\n",
      "450/450 [==============================] - 2s 4ms/step - loss: 0.2393 - acc: 0.9596 - val_loss: 0.2098 - val_acc: 0.9800\n",
      "Epoch 4/5\n",
      "450/450 [==============================] - 2s 4ms/step - loss: 0.2375 - acc: 0.9596 - val_loss: 0.2095 - val_acc: 0.9800\n",
      "Epoch 5/5\n",
      "450/450 [==============================] - 2s 4ms/step - loss: 0.2361 - acc: 0.9596 - val_loss: 0.2096 - val_acc: 0.9800\n"
     ]
    },
    {
     "data": {
      "text/plain": [
       "<keras.callbacks.History at 0x199beaddcc0>"
      ]
     },
     "execution_count": 41,
     "metadata": {},
     "output_type": "execute_result"
    }
   ],
   "source": [
    "maxlen = max_length_comment\n",
    "pad_doc = pad_sequences(sequence, maxlen=maxlen) # padding all comments to max comment length\n",
    "\n",
    "inp = Input(shape=(maxlen, )) # Input layer\n",
    "embed_size = 5\n",
    "embed=Embedding(total_words+1, embed_size)(inp)\n",
    "# input dimension=max_features, it is same as the no. of unique words in corpus\n",
    "# output dimension/vector space dimension=embed_size\n",
    "# output dimension is hyperparameter\n",
    "\n",
    "x=Conv1D(filters=60,kernel_size=2,activation='relu')(embed) # 2nd layer;Convulation layer\n",
    "#kernel-size=size of conv window\n",
    "x = GlobalMaxPool1D()(x) # GlobalMaxPool1D Takes no argument\n",
    "#x=GlobalAvgPool1D()(x)\n",
    "x = Dropout(0.1)(x) # hyperparameter\n",
    "x = Dense(50, activation=\"relu\")(x) # 3rd layer\n",
    "x = Dropout(0.1)(x) # hyperparameter\n",
    "x = Dense(6, activation=\"softmax\")(x) # output layer\n",
    "\n",
    "model = Model(inputs=inp, outputs=x)\n",
    "model.compile(loss='binary_crossentropy',\n",
    "                  optimizer='adam',\n",
    "                  metrics=['accuracy'])\n",
    "batch_size = 32\n",
    "epochs = 5\n",
    "model.fit(pad_doc,y, batch_size=batch_size, epochs=epochs, validation_split=0.1)\n"
   ]
  },
  {
   "cell_type": "code",
   "execution_count": 42,
   "metadata": {},
   "outputs": [
    {
     "name": "stdout",
     "output_type": "stream",
     "text": [
      "_________________________________________________________________\n",
      "Layer (type)                 Output Shape              Param #   \n",
      "=================================================================\n",
      "input_1 (InputLayer)         (None, 757)               0         \n",
      "_________________________________________________________________\n",
      "embedding_1 (Embedding)      (None, 757, 5)            23560     \n",
      "_________________________________________________________________\n",
      "conv1d_1 (Conv1D)            (None, 756, 60)           660       \n",
      "_________________________________________________________________\n",
      "global_max_pooling1d_1 (Glob (None, 60)                0         \n",
      "_________________________________________________________________\n",
      "dropout_1 (Dropout)          (None, 60)                0         \n",
      "_________________________________________________________________\n",
      "dense_1 (Dense)              (None, 50)                3050      \n",
      "_________________________________________________________________\n",
      "dropout_2 (Dropout)          (None, 50)                0         \n",
      "_________________________________________________________________\n",
      "dense_2 (Dense)              (None, 6)                 306       \n",
      "=================================================================\n",
      "Total params: 27,576\n",
      "Trainable params: 27,576\n",
      "Non-trainable params: 0\n",
      "_________________________________________________________________\n"
     ]
    }
   ],
   "source": [
    "model.summary()"
   ]
  },
  {
   "cell_type": "code",
   "execution_count": 43,
   "metadata": {},
   "outputs": [],
   "source": [
    "data['token sent']=[sent.split() for sent in data['comment-stem']] #splitting words bcuz word2vec accepts in list"
   ]
  },
  {
   "cell_type": "code",
   "execution_count": 44,
   "metadata": {
    "scrolled": true
   },
   "outputs": [
    {
     "name": "stderr",
     "output_type": "stream",
     "text": [
      "C:\\ProgramData\\Anaconda3\\lib\\site-packages\\ipykernel_launcher.py:2: DeprecationWarning: Call to deprecated `__getitem__` (Method will be removed in 4.0.0, use self.wv.__getitem__() instead).\n",
      "  \n"
     ]
    }
   ],
   "source": [
    "word_model=Word2Vec(data['token sent'],size=10,min_count=2)\n",
    "X=word_model[word_model.wv.vocab]"
   ]
  },
  {
   "cell_type": "code",
   "execution_count": 45,
   "metadata": {},
   "outputs": [
    {
     "name": "stderr",
     "output_type": "stream",
     "text": [
      "C:\\ProgramData\\Anaconda3\\lib\\site-packages\\ipykernel_launcher.py:1: DeprecationWarning: Call to deprecated `most_similar` (Method will be removed in 4.0.0, use self.wv.most_similar() instead).\n",
      "  \"\"\"Entry point for launching an IPython kernel.\n"
     ]
    },
    {
     "name": "stdout",
     "output_type": "stream",
     "text": [
      "[('say', 0.9718838930130005),\n",
      " ('page', 0.9633400440216064),\n",
      " ('person', 0.9627944231033325),\n",
      " ('even', 0.9596498012542725),\n",
      " ('think', 0.9578804969787598),\n",
      " ('also', 0.9577710032463074),\n",
      " ('fuck', 0.9546802043914795),\n",
      " ('articl', 0.9476175904273987),\n",
      " ('one', 0.9459682703018188),\n",
      " ('user', 0.9454864263534546)]\n"
     ]
    }
   ],
   "source": [
    "pprint(word_model.most_similar('wikipedia'))"
   ]
  },
  {
   "cell_type": "code",
   "execution_count": 46,
   "metadata": {},
   "outputs": [],
   "source": [
    "#To visualise the word embeddings.\n",
    "tsne = TSNE(n_components=2)\n",
    "X_tsne = tsne.fit_transform(X)"
   ]
  },
  {
   "cell_type": "code",
   "execution_count": 47,
   "metadata": {},
   "outputs": [
    {
     "data": {
      "image/png": "[encoded data removed]",
      "text/plain": [
       "<Figure size 720x720 with 1 Axes>"
      ]
     },
     "metadata": {},
     "output_type": "display_data"
    }
   ],
   "source": [
    "plt.rcParams['figure.figsize'] = [10, 10]\n",
    "plt.scatter(X_tsne[:, 0], X_tsne[:, 1])\n",
    "plt.show()"
   ]
  },
  {
   "cell_type": "code",
   "execution_count": null,
   "metadata": {},
   "outputs": [],
   "source": []
  }
 ],
 "metadata": {
  "kernelspec": {
   "display_name": "Python 3",
   "language": "python",
   "name": "python3"
  },
  "language_info": {
   "codemirror_mode": {
    "name": "ipython",
    "version": 3
   },
   "file_extension": ".py",
   "mimetype": "text/x-python",
   "name": "python",
   "nbconvert_exporter": "python",
   "pygments_lexer": "ipython3",
   "version": "3.6.5"
  }
 },
 "nbformat": 4,
 "nbformat_minor": 2
}
